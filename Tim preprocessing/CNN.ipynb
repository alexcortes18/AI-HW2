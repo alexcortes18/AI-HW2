{
 "cells": [
  {
   "cell_type": "code",
   "execution_count": 1,
   "metadata": {},
   "outputs": [],
   "source": [
    "import tensorflow as tf\n",
    "from tensorflow.keras.models import Sequential\n",
    "from tensorflow.keras.layers import Dense, Dropout, Activation, Flatten\n",
    "from tensorflow.keras.layers import Conv2D, MaxPooling2D\n",
    "import numpy as np\n"
   ]
  },
  {
   "cell_type": "code",
   "execution_count": 2,
   "metadata": {},
   "outputs": [],
   "source": [
    "import pickle\n",
    "pickle_in = open(\"X.pickle\",\"rb\")\n",
    "X = pickle.load(pickle_in)\n",
    "\n",
    "pickle_in = open(\"y.pickle\",\"rb\")\n",
    "y = pickle.load(pickle_in)\n"
   ]
  },
  {
   "cell_type": "code",
   "execution_count": 3,
   "metadata": {},
   "outputs": [
    {
     "data": {
      "text/plain": [
       "array([[[0., 0., 0., ..., 0., 0., 0.],\n",
       "        [0., 0., 0., ..., 0., 0., 0.],\n",
       "        [0., 0., 0., ..., 0., 0., 0.],\n",
       "        ...,\n",
       "        [0., 0., 0., ..., 0., 0., 0.],\n",
       "        [0., 0., 0., ..., 0., 0., 0.],\n",
       "        [0., 0., 0., ..., 0., 0., 0.]],\n",
       "\n",
       "       [[0., 0., 0., ..., 0., 0., 0.],\n",
       "        [0., 0., 0., ..., 0., 0., 0.],\n",
       "        [0., 0., 0., ..., 0., 0., 0.],\n",
       "        ...,\n",
       "        [0., 0., 0., ..., 0., 0., 0.],\n",
       "        [0., 0., 0., ..., 0., 0., 0.],\n",
       "        [0., 0., 0., ..., 0., 0., 0.]],\n",
       "\n",
       "       [[0., 0., 0., ..., 0., 0., 0.],\n",
       "        [0., 0., 0., ..., 0., 0., 0.],\n",
       "        [0., 0., 0., ..., 0., 0., 0.],\n",
       "        ...,\n",
       "        [0., 0., 0., ..., 0., 0., 0.],\n",
       "        [0., 0., 0., ..., 0., 0., 0.],\n",
       "        [0., 0., 0., ..., 0., 0., 0.]],\n",
       "\n",
       "       ...,\n",
       "\n",
       "       [[0., 0., 0., ..., 0., 0., 0.],\n",
       "        [0., 0., 0., ..., 0., 0., 0.],\n",
       "        [0., 0., 0., ..., 0., 0., 0.],\n",
       "        ...,\n",
       "        [0., 0., 0., ..., 0., 0., 0.],\n",
       "        [0., 0., 0., ..., 0., 0., 0.],\n",
       "        [0., 0., 0., ..., 0., 0., 0.]],\n",
       "\n",
       "       [[0., 0., 0., ..., 0., 0., 0.],\n",
       "        [0., 0., 0., ..., 0., 0., 0.],\n",
       "        [0., 0., 0., ..., 0., 0., 0.],\n",
       "        ...,\n",
       "        [0., 0., 0., ..., 0., 0., 0.],\n",
       "        [0., 0., 0., ..., 0., 0., 0.],\n",
       "        [0., 0., 0., ..., 0., 0., 0.]],\n",
       "\n",
       "       [[0., 0., 0., ..., 0., 0., 0.],\n",
       "        [0., 0., 0., ..., 0., 0., 0.],\n",
       "        [0., 0., 0., ..., 0., 0., 0.],\n",
       "        ...,\n",
       "        [0., 0., 0., ..., 0., 0., 0.],\n",
       "        [0., 0., 0., ..., 0., 0., 0.],\n",
       "        [0., 0., 0., ..., 0., 0., 0.]]])"
      ]
     },
     "execution_count": 3,
     "metadata": {},
     "output_type": "execute_result"
    }
   ],
   "source": [
    "X"
   ]
  },
  {
   "cell_type": "code",
   "execution_count": 4,
   "metadata": {},
   "outputs": [
    {
     "data": {
      "text/plain": [
       "array([3, 8, 8, ..., 3, 3, 2])"
      ]
     },
     "execution_count": 4,
     "metadata": {},
     "output_type": "execute_result"
    }
   ],
   "source": [
    "y\n"
   ]
  },
  {
   "cell_type": "markdown",
   "metadata": {},
   "source": [
    "# magic"
   ]
  },
  {
   "cell_type": "code",
   "execution_count": 16,
   "metadata": {},
   "outputs": [],
   "source": [
    "from keras.layers import Input\n",
    "from keras.models import Model\n",
    "\n",
    "classes = 9\n",
    "\n",
    "input_shape = (45,45,1)\n",
    "i = Input(shape=input_shape)\n",
    "x = Conv2D(32, (3,3), strides =2, activation = \"relu\")(i)\n",
    "x = Conv2D(64, (3,3), strides = 2, activation = 'relu')(x)\n",
    "x = Conv2D(128, (3,3), strides = 2, activation = 'relu')(x)\n",
    "x = Flatten()(x)\n",
    "x = Dropout(0.2)(x)\n",
    "x = Dense(512, activation = 'relu')(x)\n",
    "x = Dropout(0.2)(x)\n",
    "x = Dense(classes , activation = 'softmax')(x)\n",
    "\n",
    "model = Model(i,x)"
   ]
  },
  {
   "cell_type": "markdown",
   "metadata": {},
   "source": [
    "# tragic"
   ]
  },
  {
   "cell_type": "code",
   "execution_count": 59,
   "metadata": {},
   "outputs": [],
   "source": [
    "\n",
    "model = Sequential()\n",
    "\n",
    "input_shape = (45,45,1)\n",
    "\n",
    "model.add(Conv2D(32, (3, 3), input_shape=input_shape))\n",
    "model.add(Activation('relu'))\n",
    "model.add(MaxPooling2D(pool_size=(2, 2)))\n",
    "\n",
    "model.add(Conv2D(64, (3, 3)))\n",
    "model.add(Activation('relu'))\n",
    "model.add(MaxPooling2D(pool_size=(2, 2)))\n",
    "\n",
    "model.add(Conv2D(128, (3, 3)))\n",
    "model.add(Activation('relu'))\n",
    "model.add(MaxPooling2D(pool_size=(2, 2)))\n",
    "\n",
    "model.add(Conv2D(256, (3, 3)))\n",
    "model.add(Activation('relu'))\n",
    "model.add(MaxPooling2D(pool_size=(2, 2)))\n",
    "\n",
    "model.add(Conv2D(256, (3, 3)))\n",
    "model.add(Activation('relu'))\n",
    "model.add(MaxPooling2D(pool_size=(2, 2)))\n",
    "\n",
    "model.add(Flatten())  # this converts our 3D feature maps to 1D feature vectors\n",
    "\n",
    "model.add(Dense(64))\n",
    "\n",
    "model.add(Dense(1))\n",
    "model.add(Activation('sigmoid'))\n",
    "\n",
    "model.compile(loss='categorical_crossentropy',\n",
    "              optimizer='adam',\n",
    "              metrics=['accuracy'])\n",
    "\n",
    "model.fit(X, y, batch_size=32, epochs=3, validation_split=0.3)"
   ]
  },
  {
   "cell_type": "code",
   "execution_count": 17,
   "metadata": {},
   "outputs": [
    {
     "name": "stdout",
     "output_type": "stream",
     "text": [
      "Epoch 1/5\n",
      "1699/1699 [==============================] - 27s 15ms/step - loss: 0.3608 - accuracy: 0.8965\n",
      "Epoch 2/5\n",
      "1699/1699 [==============================] - 25s 15ms/step - loss: 0.1836 - accuracy: 0.9439\n",
      "Epoch 3/5\n",
      "1699/1699 [==============================] - 25s 15ms/step - loss: 0.1448 - accuracy: 0.9549\n",
      "Epoch 4/5\n",
      "1699/1699 [==============================] - 26s 15ms/step - loss: 0.1193 - accuracy: 0.9628\n",
      "Epoch 5/5\n",
      "1699/1699 [==============================] - 25s 15ms/step - loss: 0.1010 - accuracy: 0.9681\n"
     ]
    }
   ],
   "source": [
    "#Compile and fit the model\n",
    "\n",
    "callback = tf.keras.callbacks.EarlyStopping(monitor='loss', patience=3)\n",
    "\n",
    "model.compile(loss='sparse_categorical_crossentropy',optimizer='adam',metrics=['accuracy'])\n",
    "history = model.fit(X, y, \n",
    "                    epochs= 5, verbose = 1, callbacks=[callback])"
   ]
  },
  {
   "cell_type": "code",
   "execution_count": 24,
   "metadata": {},
   "outputs": [
    {
     "data": {
      "text/plain": [
       "(118595, 45, 45)"
      ]
     },
     "execution_count": 24,
     "metadata": {},
     "output_type": "execute_result"
    }
   ],
   "source": [
    "pickle_in = open(\"X_test.pickle\",\"rb\")\n",
    "X_test = pickle.load(pickle_in)\n",
    "X_test.shape"
   ]
  },
  {
   "cell_type": "code",
   "execution_count": 19,
   "metadata": {
    "scrolled": true
   },
   "outputs": [
    {
     "name": "stdout",
     "output_type": "stream",
     "text": [
      "CPU times: user 48.5 s, sys: 27.7 s, total: 1min 16s\n",
      "Wall time: 12.9 s\n"
     ]
    }
   ],
   "source": [
    "%%time\n",
    "predictions = model.predict(X_test)\n"
   ]
  },
  {
   "cell_type": "code",
   "execution_count": 20,
   "metadata": {},
   "outputs": [
    {
     "data": {
      "text/plain": [
       "array([2.2587733e-08, 1.6798886e-07, 3.2554951e-04, 1.5129801e-06,\n",
       "       8.2834376e-05, 4.9336329e-08, 9.6353018e-05, 5.1297884e-05,\n",
       "       9.9944216e-01], dtype=float32)"
      ]
     },
     "execution_count": 20,
     "metadata": {},
     "output_type": "execute_result"
    }
   ],
   "source": [
    "predictions[0]"
   ]
  },
  {
   "cell_type": "code",
   "execution_count": 21,
   "metadata": {},
   "outputs": [
    {
     "data": {
      "text/html": [
       "<div>\n",
       "<style scoped>\n",
       "    .dataframe tbody tr th:only-of-type {\n",
       "        vertical-align: middle;\n",
       "    }\n",
       "\n",
       "    .dataframe tbody tr th {\n",
       "        vertical-align: top;\n",
       "    }\n",
       "\n",
       "    .dataframe thead th {\n",
       "        text-align: right;\n",
       "    }\n",
       "</style>\n",
       "<table border=\"1\" class=\"dataframe\">\n",
       "  <thead>\n",
       "    <tr style=\"text-align: right;\">\n",
       "      <th></th>\n",
       "      <th>Type 0</th>\n",
       "      <th>Type 1</th>\n",
       "      <th>Type 2</th>\n",
       "      <th>Type 3</th>\n",
       "      <th>Type 4</th>\n",
       "      <th>Type 5</th>\n",
       "      <th>Type 6</th>\n",
       "      <th>Type 7</th>\n",
       "      <th>Type 8</th>\n",
       "    </tr>\n",
       "  </thead>\n",
       "  <tbody>\n",
       "    <tr>\n",
       "      <th>0</th>\n",
       "      <td>2.258773e-08</td>\n",
       "      <td>1.679889e-07</td>\n",
       "      <td>0.000326</td>\n",
       "      <td>1.512980e-06</td>\n",
       "      <td>0.000083</td>\n",
       "      <td>4.933633e-08</td>\n",
       "      <td>0.000096</td>\n",
       "      <td>5.129788e-05</td>\n",
       "      <td>0.999442</td>\n",
       "    </tr>\n",
       "    <tr>\n",
       "      <th>1</th>\n",
       "      <td>2.095160e-08</td>\n",
       "      <td>3.929562e-09</td>\n",
       "      <td>0.000138</td>\n",
       "      <td>4.141957e-06</td>\n",
       "      <td>0.000008</td>\n",
       "      <td>3.139956e-08</td>\n",
       "      <td>0.000237</td>\n",
       "      <td>2.287475e-07</td>\n",
       "      <td>0.999613</td>\n",
       "    </tr>\n",
       "    <tr>\n",
       "      <th>2</th>\n",
       "      <td>6.028895e-10</td>\n",
       "      <td>1.654213e-08</td>\n",
       "      <td>0.000071</td>\n",
       "      <td>8.023702e-08</td>\n",
       "      <td>0.000032</td>\n",
       "      <td>2.096528e-08</td>\n",
       "      <td>0.000260</td>\n",
       "      <td>2.734074e-05</td>\n",
       "      <td>0.999610</td>\n",
       "    </tr>\n",
       "    <tr>\n",
       "      <th>3</th>\n",
       "      <td>2.194049e-09</td>\n",
       "      <td>2.566946e-07</td>\n",
       "      <td>0.001401</td>\n",
       "      <td>1.192820e-05</td>\n",
       "      <td>0.008240</td>\n",
       "      <td>1.793361e-07</td>\n",
       "      <td>0.028118</td>\n",
       "      <td>3.580632e-06</td>\n",
       "      <td>0.962225</td>\n",
       "    </tr>\n",
       "    <tr>\n",
       "      <th>4</th>\n",
       "      <td>3.571650e-09</td>\n",
       "      <td>2.053476e-10</td>\n",
       "      <td>0.000168</td>\n",
       "      <td>2.036148e-06</td>\n",
       "      <td>0.000003</td>\n",
       "      <td>3.647719e-09</td>\n",
       "      <td>0.000043</td>\n",
       "      <td>3.443892e-07</td>\n",
       "      <td>0.999784</td>\n",
       "    </tr>\n",
       "    <tr>\n",
       "      <th>...</th>\n",
       "      <td>...</td>\n",
       "      <td>...</td>\n",
       "      <td>...</td>\n",
       "      <td>...</td>\n",
       "      <td>...</td>\n",
       "      <td>...</td>\n",
       "      <td>...</td>\n",
       "      <td>...</td>\n",
       "      <td>...</td>\n",
       "    </tr>\n",
       "    <tr>\n",
       "      <th>118590</th>\n",
       "      <td>8.762439e-06</td>\n",
       "      <td>5.903379e-07</td>\n",
       "      <td>0.760771</td>\n",
       "      <td>2.337284e-01</td>\n",
       "      <td>0.004688</td>\n",
       "      <td>1.639956e-04</td>\n",
       "      <td>0.000537</td>\n",
       "      <td>4.968376e-07</td>\n",
       "      <td>0.000102</td>\n",
       "    </tr>\n",
       "    <tr>\n",
       "      <th>118591</th>\n",
       "      <td>3.842103e-04</td>\n",
       "      <td>1.011243e-05</td>\n",
       "      <td>0.752240</td>\n",
       "      <td>2.053792e-01</td>\n",
       "      <td>0.002055</td>\n",
       "      <td>1.446058e-04</td>\n",
       "      <td>0.004391</td>\n",
       "      <td>1.557556e-05</td>\n",
       "      <td>0.035381</td>\n",
       "    </tr>\n",
       "    <tr>\n",
       "      <th>118592</th>\n",
       "      <td>1.656583e-08</td>\n",
       "      <td>1.968670e-09</td>\n",
       "      <td>0.134505</td>\n",
       "      <td>8.653919e-01</td>\n",
       "      <td>0.000017</td>\n",
       "      <td>2.252243e-07</td>\n",
       "      <td>0.000051</td>\n",
       "      <td>2.386395e-11</td>\n",
       "      <td>0.000034</td>\n",
       "    </tr>\n",
       "    <tr>\n",
       "      <th>118593</th>\n",
       "      <td>8.587016e-08</td>\n",
       "      <td>3.391424e-09</td>\n",
       "      <td>0.818932</td>\n",
       "      <td>1.805218e-01</td>\n",
       "      <td>0.000410</td>\n",
       "      <td>1.942884e-05</td>\n",
       "      <td>0.000044</td>\n",
       "      <td>9.502308e-09</td>\n",
       "      <td>0.000073</td>\n",
       "    </tr>\n",
       "    <tr>\n",
       "      <th>118594</th>\n",
       "      <td>1.064663e-07</td>\n",
       "      <td>8.904785e-09</td>\n",
       "      <td>0.076172</td>\n",
       "      <td>9.233271e-01</td>\n",
       "      <td>0.000034</td>\n",
       "      <td>5.723895e-07</td>\n",
       "      <td>0.000203</td>\n",
       "      <td>1.238123e-10</td>\n",
       "      <td>0.000263</td>\n",
       "    </tr>\n",
       "  </tbody>\n",
       "</table>\n",
       "<p>118595 rows × 9 columns</p>\n",
       "</div>"
      ],
      "text/plain": [
       "              Type 0        Type 1    Type 2        Type 3    Type 4  \\\n",
       "0       2.258773e-08  1.679889e-07  0.000326  1.512980e-06  0.000083   \n",
       "1       2.095160e-08  3.929562e-09  0.000138  4.141957e-06  0.000008   \n",
       "2       6.028895e-10  1.654213e-08  0.000071  8.023702e-08  0.000032   \n",
       "3       2.194049e-09  2.566946e-07  0.001401  1.192820e-05  0.008240   \n",
       "4       3.571650e-09  2.053476e-10  0.000168  2.036148e-06  0.000003   \n",
       "...              ...           ...       ...           ...       ...   \n",
       "118590  8.762439e-06  5.903379e-07  0.760771  2.337284e-01  0.004688   \n",
       "118591  3.842103e-04  1.011243e-05  0.752240  2.053792e-01  0.002055   \n",
       "118592  1.656583e-08  1.968670e-09  0.134505  8.653919e-01  0.000017   \n",
       "118593  8.587016e-08  3.391424e-09  0.818932  1.805218e-01  0.000410   \n",
       "118594  1.064663e-07  8.904785e-09  0.076172  9.233271e-01  0.000034   \n",
       "\n",
       "              Type 5    Type 6        Type 7    Type 8  \n",
       "0       4.933633e-08  0.000096  5.129788e-05  0.999442  \n",
       "1       3.139956e-08  0.000237  2.287475e-07  0.999613  \n",
       "2       2.096528e-08  0.000260  2.734074e-05  0.999610  \n",
       "3       1.793361e-07  0.028118  3.580632e-06  0.962225  \n",
       "4       3.647719e-09  0.000043  3.443892e-07  0.999784  \n",
       "...              ...       ...           ...       ...  \n",
       "118590  1.639956e-04  0.000537  4.968376e-07  0.000102  \n",
       "118591  1.446058e-04  0.004391  1.557556e-05  0.035381  \n",
       "118592  2.252243e-07  0.000051  2.386395e-11  0.000034  \n",
       "118593  1.942884e-05  0.000044  9.502308e-09  0.000073  \n",
       "118594  5.723895e-07  0.000203  1.238123e-10  0.000263  \n",
       "\n",
       "[118595 rows x 9 columns]"
      ]
     },
     "execution_count": 21,
     "metadata": {},
     "output_type": "execute_result"
    }
   ],
   "source": [
    "#for uploading\n",
    "\n",
    "import pandas as pd\n",
    "\n",
    "pred = pd.DataFrame(predictions, columns = [\"Type 0\", \"Type 1\", \"Type 2\", \"Type 3\", \"Type 4\", \"Type 5\", \"Type 6\", \"Type 7\", \"Type 8\"])\n",
    "pred\n"
   ]
  },
  {
   "cell_type": "code",
   "execution_count": 23,
   "metadata": {},
   "outputs": [],
   "source": [
    "pred.to_csv('submission.csv', index_label = 'Id')"
   ]
  },
  {
   "cell_type": "code",
   "execution_count": null,
   "metadata": {},
   "outputs": [],
   "source": []
  }
 ],
 "metadata": {
  "kernelspec": {
   "display_name": "Python 3",
   "language": "python",
   "name": "python3"
  },
  "language_info": {
   "codemirror_mode": {
    "name": "ipython",
    "version": 3
   },
   "file_extension": ".py",
   "mimetype": "text/x-python",
   "name": "python",
   "nbconvert_exporter": "python",
   "pygments_lexer": "ipython3",
   "version": "3.8.8"
  }
 },
 "nbformat": 4,
 "nbformat_minor": 4
}
