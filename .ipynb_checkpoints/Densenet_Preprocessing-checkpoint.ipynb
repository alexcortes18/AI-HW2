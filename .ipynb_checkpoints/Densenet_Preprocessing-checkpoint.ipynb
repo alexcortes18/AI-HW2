{
 "cells": [
  {
   "cell_type": "code",
   "execution_count": null,
   "id": "3032c620",
   "metadata": {},
   "outputs": [],
   "source": [
    "import pandas as pd\n",
    "import numpy as np\n",
    "import pickle\n",
    "import sys\n",
    "import matplotlib.pyplot as plt\n",
    "import cv2\n",
    "import tensorflow as tf"
   ]
  },
  {
   "cell_type": "code",
   "execution_count": null,
   "id": "7f199937",
   "metadata": {
    "scrolled": false
   },
   "outputs": [],
   "source": [
    "datapath = sys.path[0] + '/wafer-map-hw2/train_set.pkl'\n",
    "\n",
    "with open(datapath, \"rb\") as file:\n",
    "    df = pickle.load(file)\n",
    "    \n",
    "print(\"Original columns: \", df.columns)\n",
    "print(datapath)"
   ]
  },
  {
   "cell_type": "code",
   "execution_count": null,
   "id": "85c1cfab",
   "metadata": {
    "scrolled": true
   },
   "outputs": [],
   "source": [
    "df = df[[\"waferMap\",\"failureType\",\"wafer_size\",\"failureNum\"]]"
   ]
  },
  {
   "cell_type": "code",
   "execution_count": null,
   "id": "864756cf",
   "metadata": {
    "scrolled": false
   },
   "outputs": [],
   "source": [
    "df.head()"
   ]
  },
  {
   "cell_type": "code",
   "execution_count": null,
   "id": "08507ffb",
   "metadata": {},
   "outputs": [],
   "source": [
    "def find_dim(x):\n",
    "    dim0=np.size(x,axis=0)\n",
    "    dim1=np.size(x,axis=1)\n",
    "    return dim0,dim1\n",
    "df['waferMapDim']=df.waferMap.apply(find_dim)\n",
    "df.sample(5)"
   ]
  },
  {
   "cell_type": "code",
   "execution_count": null,
   "id": "b6a3abed",
   "metadata": {
    "scrolled": false
   },
   "outputs": [],
   "source": [
    "#mapping_traintest = {'Training': 0, 'Test': 1}\n",
    "mapping_type = {'Center':0, 'Donut':1, 'Edge-Loc':2, 'Edge-Ring':3,\n",
    "         'Loc':4, 'Random':5, 'Scratch':6, 'Near-full':7, 'none':8}"
   ]
  },
  {
   "cell_type": "code",
   "execution_count": null,
   "id": "0c686d39",
   "metadata": {},
   "outputs": [],
   "source": [
    "pd.set_option('display.max_rows', 50)\n",
    "\n",
    "df['wafer_size'].value_counts()"
   ]
  },
  {
   "cell_type": "code",
   "execution_count": null,
   "id": "791d58cf",
   "metadata": {},
   "outputs": [],
   "source": [
    "img_size = 60\n",
    "\n",
    "def resizemap(waferMap):\n",
    "    return cv2.resize(waferMap,(img_size,img_size))\n",
    "\n",
    "df[\"resized_waferMap\"] = df.waferMap.apply(resizemap)"
   ]
  },
  {
   "cell_type": "code",
   "execution_count": null,
   "id": "c26c3539",
   "metadata": {
    "scrolled": true
   },
   "outputs": [],
   "source": [
    "df.sort_values(by = \"wafer_size\")"
   ]
  },
  {
   "cell_type": "code",
   "execution_count": null,
   "id": "6147b904",
   "metadata": {},
   "outputs": [],
   "source": [
    "#for i,img in enumerate(df.resized_waferMap):   \n",
    "    #plt.imsave(sys.path[0]+\"\\images\"+\"\\wafermap_\"+str(i)+\".png\", img)\n",
    "    \n",
    "    ##Show images: Don't show all of them\n",
    "    ##plt.imshow(img)\n",
    "    ##plt.show()"
   ]
  },
  {
   "cell_type": "code",
   "execution_count": null,
   "id": "35392d42",
   "metadata": {
    "scrolled": false
   },
   "outputs": [],
   "source": [
    "#Plot Original Image\n",
    "img = df[\"waferMap\"][12359]\n",
    "plt.imshow(img,)# cmap = \"gray\")\n",
    "plt.show()"
   ]
  },
  {
   "cell_type": "code",
   "execution_count": null,
   "id": "862819e6",
   "metadata": {},
   "outputs": [],
   "source": [
    "df.resized_waferMap[0].shape"
   ]
  },
  {
   "cell_type": "code",
   "execution_count": null,
   "id": "23063bad",
   "metadata": {
    "scrolled": false
   },
   "outputs": [],
   "source": [
    "#Plot Normalized Image\n",
    "img = df[\"resized_waferMap\"][12359]\n",
    "plt.imshow(img,)# cmap = \"gray\")\n",
    "plt.show()"
   ]
  },
  {
   "cell_type": "code",
   "execution_count": null,
   "id": "5c38fa30",
   "metadata": {},
   "outputs": [],
   "source": [
    "#%%time\n",
    "#scale the image\n",
    "\n",
    "\n",
    "#def normalizing(wafer_map):\n",
    "    #return tf.keras.utils.normalize(wafer_map)\n",
    "\n",
    "#df['resized_waferMap'] = df['resized_waferMap'].apply(normalizing)"
   ]
  },
  {
   "cell_type": "code",
   "execution_count": null,
   "id": "ca1c0fc8",
   "metadata": {
    "scrolled": true
   },
   "outputs": [],
   "source": [
    "from sklearn.utils import shuffle\n",
    "\n",
    "#random shuffle the df\n",
    "df = shuffle(df)\n",
    "df.head()"
   ]
  },
  {
   "cell_type": "markdown",
   "id": "807fde2a",
   "metadata": {},
   "source": [
    "### Experimental "
   ]
  },
  {
   "cell_type": "code",
   "execution_count": null,
   "id": "93529a85",
   "metadata": {},
   "outputs": [],
   "source": [
    "%%time\n",
    "X = np.zeros((df.shape[0], img_size, img_size))\n",
    "\n",
    "for i in range(df.shape[0]):\n",
    "    image = df.iloc[i].resized_waferMap\n",
    "    #X[i] = resizemap(image)\n",
    "    X[i] = image"
   ]
  },
  {
   "cell_type": "code",
   "execution_count": null,
   "id": "e5f79c83",
   "metadata": {},
   "outputs": [],
   "source": [
    "X.shape"
   ]
  },
  {
   "cell_type": "code",
   "execution_count": null,
   "id": "3d45f72f",
   "metadata": {},
   "outputs": [],
   "source": [
    "np.set_printoptions(threshold=sys.maxsize)\n",
    "X[0]"
   ]
  },
  {
   "cell_type": "code",
   "execution_count": null,
   "id": "acd92420",
   "metadata": {},
   "outputs": [],
   "source": [
    "X = X.reshape((-1, img_size, img_size, 1))"
   ]
  },
  {
   "cell_type": "code",
   "execution_count": null,
   "id": "fa7ab63d",
   "metadata": {},
   "outputs": [],
   "source": [
    "X.shape"
   ]
  },
  {
   "cell_type": "code",
   "execution_count": null,
   "id": "2b4361f1",
   "metadata": {},
   "outputs": [],
   "source": [
    "np.set_printoptions(threshold=sys.maxsize)\n",
    "int(X[0,0,6])"
   ]
  },
  {
   "cell_type": "code",
   "execution_count": null,
   "id": "dd292ed3",
   "metadata": {},
   "outputs": [],
   "source": [
    "%%time\n",
    "\n",
    "X_all= np.zeros((len(X), img_size, img_size, 3))\n",
    "\n",
    "for w in range(len(X)):\n",
    "    for i in range(img_size):\n",
    "        for j in range(img_size):\n",
    "            X_all[w, i, j, int(X[w, i, j])] = 1"
   ]
  },
  {
   "cell_type": "code",
   "execution_count": null,
   "id": "a1024f30",
   "metadata": {
    "scrolled": true
   },
   "outputs": [],
   "source": [
    "np.set_printoptions(threshold=sys.maxsize)\n",
    "int(X_all[0,0,6,0])"
   ]
  },
  {
   "cell_type": "code",
   "execution_count": null,
   "id": "95af5cb8",
   "metadata": {},
   "outputs": [],
   "source": [
    "X[3,40,3]"
   ]
  },
  {
   "cell_type": "code",
   "execution_count": null,
   "id": "22c150dd",
   "metadata": {},
   "outputs": [],
   "source": [
    "X_all.shape"
   ]
  },
  {
   "cell_type": "code",
   "execution_count": null,
   "id": "48406c66",
   "metadata": {},
   "outputs": [],
   "source": [
    "X_all[3,40,3,1]"
   ]
  },
  {
   "cell_type": "code",
   "execution_count": null,
   "id": "f3835988",
   "metadata": {},
   "outputs": [],
   "source": [
    "y = np.array(df.failureNum)"
   ]
  },
  {
   "cell_type": "code",
   "execution_count": null,
   "id": "baf4b158",
   "metadata": {},
   "outputs": [],
   "source": [
    "y"
   ]
  },
  {
   "cell_type": "markdown",
   "id": "5883787d",
   "metadata": {},
   "source": [
    "### Importing to pickle"
   ]
  },
  {
   "cell_type": "code",
   "execution_count": null,
   "id": "9743ff9f",
   "metadata": {},
   "outputs": [],
   "source": [
    "%%time\n",
    "import pickle\n",
    "\n",
    "pickle_out = open(\"x.pickle\",\"wb\")\n",
    "pickle.dump(X_all, pickle_out)\n",
    "pickle_out.close()\n",
    "\n",
    "pickle_out = open(\"y.pickle\",\"wb\")\n",
    "pickle.dump(y, pickle_out)\n",
    "pickle_out.close()"
   ]
  },
  {
   "cell_type": "markdown",
   "id": "1328581a",
   "metadata": {},
   "source": [
    "# -------------------------------------------------- "
   ]
  },
  {
   "cell_type": "markdown",
   "id": "1f969451",
   "metadata": {},
   "source": [
    "## Testing Data and Preprocessing it"
   ]
  },
  {
   "cell_type": "code",
   "execution_count": null,
   "id": "31a92641",
   "metadata": {},
   "outputs": [],
   "source": [
    "datapath = sys.path[0] + '/wafer-map-hw2/test_set_all.pkl'\n",
    "\n",
    "with open(datapath, \"rb\") as file:\n",
    "    test = pickle.load(file)\n",
    "    \n",
    "print(\"Original columns: \", test.columns)"
   ]
  },
  {
   "cell_type": "code",
   "execution_count": null,
   "id": "1b280642",
   "metadata": {},
   "outputs": [],
   "source": [
    "test.head()"
   ]
  },
  {
   "cell_type": "code",
   "execution_count": null,
   "id": "f11a2219",
   "metadata": {},
   "outputs": [],
   "source": [
    "test['wafer_size'].value_counts()"
   ]
  },
  {
   "cell_type": "code",
   "execution_count": null,
   "id": "ae073410",
   "metadata": {},
   "outputs": [],
   "source": [
    "test[\"resized_waferMap\"] = test.waferMap.apply(resizemap)"
   ]
  },
  {
   "cell_type": "code",
   "execution_count": null,
   "id": "9734476c",
   "metadata": {
    "scrolled": false
   },
   "outputs": [],
   "source": [
    "test.head()"
   ]
  },
  {
   "cell_type": "code",
   "execution_count": null,
   "id": "9d84a87f",
   "metadata": {},
   "outputs": [],
   "source": [
    "%%time\n",
    "X_test = np.zeros((test.shape[0], img_size, img_size))\n",
    "\n",
    "for i in range(test.shape[0]):\n",
    "    image = test.iloc[i].resized_waferMap\n",
    "    #X[i] = resizemap(image)\n",
    "    X[i] = image"
   ]
  },
  {
   "cell_type": "code",
   "execution_count": null,
   "id": "6ec2b172",
   "metadata": {
    "scrolled": true
   },
   "outputs": [],
   "source": [
    "X_test.shape"
   ]
  },
  {
   "cell_type": "code",
   "execution_count": null,
   "id": "f9322d96",
   "metadata": {},
   "outputs": [],
   "source": [
    "X_test[1,1,1]"
   ]
  },
  {
   "cell_type": "code",
   "execution_count": null,
   "id": "52980921",
   "metadata": {},
   "outputs": [],
   "source": [
    "X_test = X_test.reshape((-1, img_size, img_size, 1))"
   ]
  },
  {
   "cell_type": "code",
   "execution_count": null,
   "id": "2f2286d8",
   "metadata": {},
   "outputs": [],
   "source": [
    "X_test.shape"
   ]
  },
  {
   "cell_type": "code",
   "execution_count": null,
   "id": "fea0a991",
   "metadata": {},
   "outputs": [],
   "source": [
    "X_test[1,1,1,0]"
   ]
  },
  {
   "cell_type": "code",
   "execution_count": null,
   "id": "c1e51b44",
   "metadata": {},
   "outputs": [],
   "source": [
    "%%time\n",
    "X_all_test= np.zeros((len(X_test), img_size, img_size, 3))\n",
    "\n",
    "for w in range(len(X_test)):\n",
    "    for i in range(img_size):\n",
    "        for j in range(img_size):\n",
    "            X_all_test[w, i, j, int(X_test[w, i, j])] = 1"
   ]
  },
  {
   "cell_type": "code",
   "execution_count": null,
   "id": "9468641d",
   "metadata": {
    "scrolled": true
   },
   "outputs": [],
   "source": [
    "np.set_printoptions(threshold= 10)\n",
    "X_all_test"
   ]
  },
  {
   "cell_type": "code",
   "execution_count": null,
   "id": "6d6bd083",
   "metadata": {},
   "outputs": [],
   "source": [
    "%time\n",
    "pickle_out = open(\"x_to_predict.pickle\",\"wb\")\n",
    "pickle.dump(X_all_test, pickle_out)\n",
    "pickle_out.close()"
   ]
  },
  {
   "cell_type": "markdown",
   "id": "283edc25",
   "metadata": {},
   "source": [
    "# -------------------------------------------------- END --------------------------------------------------"
   ]
  }
 ],
 "metadata": {
  "kernelspec": {
   "display_name": "tf-alex",
   "language": "python",
   "name": "tf-alex"
  },
  "language_info": {
   "codemirror_mode": {
    "name": "ipython",
    "version": 3
   },
   "file_extension": ".py",
   "mimetype": "text/x-python",
   "name": "python",
   "nbconvert_exporter": "python",
   "pygments_lexer": "ipython3",
   "version": "3.10.1"
  }
 },
 "nbformat": 4,
 "nbformat_minor": 5
}
