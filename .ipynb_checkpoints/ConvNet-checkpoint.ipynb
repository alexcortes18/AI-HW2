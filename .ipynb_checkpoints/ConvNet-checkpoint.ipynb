{
 "cells": [
  {
   "cell_type": "markdown",
   "id": "ca96ed8c",
   "metadata": {},
   "source": [
    "## Import Data"
   ]
  },
  {
   "cell_type": "code",
   "execution_count": 1,
   "id": "5a623f80",
   "metadata": {
    "scrolled": true
   },
   "outputs": [],
   "source": [
    "import tensorflow as tf\n",
    "import numpy as np\n",
    "from tensorflow.keras.models import Sequential, Model\n",
    "from tensorflow.keras.layers import Dense, Dropout, Activation, Flatten, Conv2D, MaxPooling2D, Input, BatchNormalization, MaxPool2D\n",
    "import pickle\n",
    "import sys\n",
    "import cv2\n",
    "import matplotlib.pyplot as plt\n",
    "import gc # to delete used memory after running models"
   ]
  },
  {
   "cell_type": "code",
   "execution_count": 2,
   "id": "70a82b61",
   "metadata": {},
   "outputs": [
    {
     "name": "stdout",
     "output_type": "stream",
     "text": [
      "C:\\Users\\alexc\\AppData\\Local\\Programs\\Python\\Python310\\python.exe\n"
     ]
    }
   ],
   "source": [
    "import sys\n",
    "print(sys.executable)"
   ]
  },
  {
   "cell_type": "code",
   "execution_count": 3,
   "id": "6b30a242",
   "metadata": {
    "scrolled": true
   },
   "outputs": [
    {
     "name": "stdout",
     "output_type": "stream",
     "text": [
      "[name: \"/device:CPU:0\"\n",
      "device_type: \"CPU\"\n",
      "memory_limit: 268435456\n",
      "locality {\n",
      "}\n",
      "incarnation: 10478704304585295456\n",
      "xla_global_id: -1\n",
      ", name: \"/device:GPU:0\"\n",
      "device_type: \"GPU\"\n",
      "memory_limit: 4185718784\n",
      "locality {\n",
      "  bus_id: 1\n",
      "  links {\n",
      "  }\n",
      "}\n",
      "incarnation: 18107337114848531332\n",
      "physical_device_desc: \"device: 0, name: NVIDIA GeForce GTX 1660 Ti, pci bus id: 0000:01:00.0, compute capability: 7.5\"\n",
      "xla_global_id: 416903419\n",
      "]\n"
     ]
    }
   ],
   "source": [
    "from tensorflow.python.client import device_lib\n",
    "print(device_lib.list_local_devices())"
   ]
  },
  {
   "cell_type": "markdown",
   "id": "96e20610",
   "metadata": {},
   "source": [
    "### Techniques to use: "
   ]
  },
  {
   "cell_type": "code",
   "execution_count": 4,
   "id": "e502c519",
   "metadata": {},
   "outputs": [],
   "source": [
    "use_smote = False"
   ]
  },
  {
   "cell_type": "code",
   "execution_count": 5,
   "id": "842593c7",
   "metadata": {},
   "outputs": [],
   "source": [
    "use_data_augmentation = True"
   ]
  },
  {
   "cell_type": "markdown",
   "id": "9289dc5a",
   "metadata": {},
   "source": [
    "## Data Loading "
   ]
  },
  {
   "cell_type": "code",
   "execution_count": 6,
   "id": "580506a3",
   "metadata": {},
   "outputs": [],
   "source": [
    "pickle_in = open(\"x.pickle\",\"rb\")\n",
    "x = pickle.load(pickle_in)\n",
    "\n",
    "pickle_in = open(\"y.pickle\",\"rb\")\n",
    "y = pickle.load(pickle_in)"
   ]
  },
  {
   "cell_type": "code",
   "execution_count": 7,
   "id": "dc6d906b",
   "metadata": {
    "scrolled": false
   },
   "outputs": [
    {
     "data": {
      "text/plain": [
       "array([[[0, 0, 0, ..., 0, 0, 0],\n",
       "        [0, 0, 0, ..., 0, 0, 0],\n",
       "        [0, 0, 0, ..., 0, 0, 0],\n",
       "        ...,\n",
       "        [0, 0, 0, ..., 0, 0, 0],\n",
       "        [0, 0, 0, ..., 0, 0, 0],\n",
       "        [0, 0, 0, ..., 0, 0, 0]]], dtype=uint8)"
      ]
     },
     "execution_count": 7,
     "metadata": {},
     "output_type": "execute_result"
    }
   ],
   "source": [
    "np.set_printoptions(threshold=10)\n",
    "x[0:1]"
   ]
  },
  {
   "cell_type": "markdown",
   "id": "2d957d82",
   "metadata": {},
   "source": [
    "## Train Test Split"
   ]
  },
  {
   "cell_type": "code",
   "execution_count": 8,
   "id": "224c02d6",
   "metadata": {
    "scrolled": true
   },
   "outputs": [],
   "source": [
    "from sklearn.model_selection import train_test_split\n",
    "\n",
    "x_train, x_test, y_train, y_test = train_test_split(x,y,test_size = 0.15, random_state = 1)"
   ]
  },
  {
   "cell_type": "code",
   "execution_count": 9,
   "id": "2a17cd4e",
   "metadata": {
    "scrolled": true
   },
   "outputs": [
    {
     "name": "stdout",
     "output_type": "stream",
     "text": [
      "Unique classes:  9\n"
     ]
    }
   ],
   "source": [
    "#get the unique classes with set, and count them with len\n",
    "K = len(set(y_train))\n",
    "print(\"Unique classes: \", K)"
   ]
  },
  {
   "cell_type": "code",
   "execution_count": 10,
   "id": "20831a4b",
   "metadata": {
    "scrolled": true
   },
   "outputs": [
    {
     "data": {
      "text/plain": [
       "(46201, 60, 60)"
      ]
     },
     "execution_count": 10,
     "metadata": {},
     "output_type": "execute_result"
    }
   ],
   "source": [
    "x_train.shape"
   ]
  },
  {
   "cell_type": "code",
   "execution_count": null,
   "id": "cd76a4b6",
   "metadata": {},
   "outputs": [],
   "source": [
    "plt.imshow(x_train[100])\n",
    "plt.show()"
   ]
  },
  {
   "cell_type": "code",
   "execution_count": 12,
   "id": "22fc6b1f",
   "metadata": {},
   "outputs": [
    {
     "data": {
      "text/plain": [
       "array([8, 8, 8, ..., 8, 8, 8], dtype=int64)"
      ]
     },
     "execution_count": 12,
     "metadata": {},
     "output_type": "execute_result"
    }
   ],
   "source": [
    "y"
   ]
  },
  {
   "cell_type": "markdown",
   "id": "2d5b69bc",
   "metadata": {},
   "source": [
    "## Smote "
   ]
  },
  {
   "cell_type": "code",
   "execution_count": 13,
   "id": "9ced9b0c",
   "metadata": {},
   "outputs": [],
   "source": [
    "#Reshaping x_train to use Smote"
   ]
  },
  {
   "cell_type": "code",
   "execution_count": 14,
   "id": "22e29e4e",
   "metadata": {
    "scrolled": true
   },
   "outputs": [],
   "source": [
    "from imblearn.over_sampling import SMOTE\n",
    "\n",
    "if(use_smote):\n",
    "    x_train_rows = len(x_train)\n",
    "    x_train_rows\n",
    "    x_train = x_train.reshape(x_train_rows,-1)\n",
    "    x_train.shape\n",
    "#----------------    \n",
    "    x_train_rows = len(x_train)\n",
    "    x_train = x_train.reshape(x_train_rows,-1)\n",
    "    #Majority Class counts: 29360\n",
    "#----------------   \n",
    "    number_samples = 10000 #29360\n",
    "\n",
    "    smote = SMOTE(sampling_strategy = {0:number_samples, 1:number_samples, 2:number_samples, 3:number_samples,\n",
    "         4:number_samples, 5:number_samples, 6:number_samples, 7:number_samples, 8:29360}, random_state= 4)\n",
    "    x_smote, y_smote = smote.fit_resample(x_train, y_train)\n",
    "    \n",
    "    print(x_smote.shape, x_smote[0].shape, y_smote.shape)\n",
    "#----------------\n",
    "    x_train = x_smote.reshape(-1,60,60)\n",
    "    y_train = y_smote\n",
    "    print(x_train.shape)"
   ]
  },
  {
   "cell_type": "markdown",
   "id": "733928ce",
   "metadata": {},
   "source": [
    "## Create Model"
   ]
  },
  {
   "cell_type": "code",
   "execution_count": 15,
   "id": "6ef608eb",
   "metadata": {},
   "outputs": [],
   "source": [
    "img_size = 60\n",
    "\n",
    "i = Input(shape=(img_size,img_size,1))\n",
    "x = Conv2D(32, (2,2), strides = 2, activation = \"relu\")(i)\n",
    "x = Conv2D(64, (2,2), strides = 2, activation = 'relu')(x)\n",
    "#x = Conv2D(128, (3,3), strides = 2, activation = 'relu')(x) #original layer but dropping this layer improves prediction?\n",
    "#x = Conv2D(256, (3,3), strides = 2, activation = 'relu')(x)  # with this layer my prediction dropped 0.07 points\n",
    "x = Flatten()(x)\n",
    "x = Dropout(0.1)(x)\n",
    "x = Dense(512, activation = 'relu')(x)\n",
    "x = Dropout(0.1)(x)\n",
    "x = Dense(K, activation = 'softmax')(x)\n",
    "\n",
    "model = Model(i,x)"
   ]
  },
  {
   "cell_type": "code",
   "execution_count": 16,
   "id": "26b34e15",
   "metadata": {},
   "outputs": [
    {
     "data": {
      "text/plain": [
       "'\\nimg_size = 45\\n\\nmodel = Sequential()\\nmodel.add(Conv2D(input_shape=(img_size,img_size,1),filters=64,kernel_size=(3,3),padding=\"same\", activation=\"relu\"))\\nmodel.add(Conv2D(filters=64,kernel_size=(3,3),padding=\"same\", activation=\"relu\"))\\nmodel.add(MaxPool2D(pool_size=(2,2),strides=(2,2)))\\nmodel.add(Conv2D(filters=128, kernel_size=(3,3), padding=\"same\", activation=\"relu\"))\\nmodel.add(Conv2D(filters=128, kernel_size=(3,3), padding=\"same\", activation=\"relu\"))\\nmodel.add(MaxPool2D(pool_size=(2,2),strides=(2,2)))\\nmodel.add(Conv2D(filters=256, kernel_size=(3,3), padding=\"same\", activation=\"relu\"))\\nmodel.add(Conv2D(filters=256, kernel_size=(3,3), padding=\"same\", activation=\"relu\"))\\nmodel.add(Conv2D(filters=256, kernel_size=(3,3), padding=\"same\", activation=\"relu\"))\\nmodel.add(MaxPool2D(pool_size=(2,2),strides=(2,2)))\\nmodel.add(Conv2D(filters=512, kernel_size=(3,3), padding=\"same\", activation=\"relu\"))\\nmodel.add(Conv2D(filters=512, kernel_size=(3,3), padding=\"same\", activation=\"relu\"))\\nmodel.add(Conv2D(filters=512, kernel_size=(3,3), padding=\"same\", activation=\"relu\"))\\nmodel.add(MaxPool2D(pool_size=(2,2),strides=(2,2)))\\nmodel.add(Conv2D(filters=512, kernel_size=(3,3), padding=\"same\", activation=\"relu\"))\\nmodel.add(Conv2D(filters=512, kernel_size=(3,3), padding=\"same\", activation=\"relu\"))\\nmodel.add(Conv2D(filters=512, kernel_size=(3,3), padding=\"same\", activation=\"relu\"))\\nmodel.add(MaxPool2D(pool_size=(2,2),strides=(2,2)))\\n\\nmodel.add(Flatten())\\nmodel.add(Dense(units=4096,activation=\"relu\"))\\nmodel.add(Dense(units=4096,activation=\"relu\"))\\nmodel.add(Dense(9, activation=\"softmax\"))\\n\\nmodel.summary()\\n'"
      ]
     },
     "execution_count": 16,
     "metadata": {},
     "output_type": "execute_result"
    }
   ],
   "source": [
    "# from: https://towardsdatascience.com/step-by-step-vgg16-implementation-in-keras-for-beginners-a833c686ae6c\n",
    "'''\n",
    "img_size = 45\n",
    "\n",
    "model = Sequential()\n",
    "model.add(Conv2D(input_shape=(img_size,img_size,1),filters=64,kernel_size=(3,3),padding=\"same\", activation=\"relu\"))\n",
    "model.add(Conv2D(filters=64,kernel_size=(3,3),padding=\"same\", activation=\"relu\"))\n",
    "model.add(MaxPool2D(pool_size=(2,2),strides=(2,2)))\n",
    "model.add(Conv2D(filters=128, kernel_size=(3,3), padding=\"same\", activation=\"relu\"))\n",
    "model.add(Conv2D(filters=128, kernel_size=(3,3), padding=\"same\", activation=\"relu\"))\n",
    "model.add(MaxPool2D(pool_size=(2,2),strides=(2,2)))\n",
    "model.add(Conv2D(filters=256, kernel_size=(3,3), padding=\"same\", activation=\"relu\"))\n",
    "model.add(Conv2D(filters=256, kernel_size=(3,3), padding=\"same\", activation=\"relu\"))\n",
    "model.add(Conv2D(filters=256, kernel_size=(3,3), padding=\"same\", activation=\"relu\"))\n",
    "model.add(MaxPool2D(pool_size=(2,2),strides=(2,2)))\n",
    "model.add(Conv2D(filters=512, kernel_size=(3,3), padding=\"same\", activation=\"relu\"))\n",
    "model.add(Conv2D(filters=512, kernel_size=(3,3), padding=\"same\", activation=\"relu\"))\n",
    "model.add(Conv2D(filters=512, kernel_size=(3,3), padding=\"same\", activation=\"relu\"))\n",
    "model.add(MaxPool2D(pool_size=(2,2),strides=(2,2)))\n",
    "model.add(Conv2D(filters=512, kernel_size=(3,3), padding=\"same\", activation=\"relu\"))\n",
    "model.add(Conv2D(filters=512, kernel_size=(3,3), padding=\"same\", activation=\"relu\"))\n",
    "model.add(Conv2D(filters=512, kernel_size=(3,3), padding=\"same\", activation=\"relu\"))\n",
    "model.add(MaxPool2D(pool_size=(2,2),strides=(2,2)))\n",
    "\n",
    "model.add(Flatten())\n",
    "model.add(Dense(units=4096,activation=\"relu\"))\n",
    "model.add(Dense(units=4096,activation=\"relu\"))\n",
    "model.add(Dense(9, activation=\"softmax\"))\n",
    "\n",
    "model.summary()\n",
    "'''"
   ]
  },
  {
   "cell_type": "markdown",
   "id": "f73a1888",
   "metadata": {},
   "source": [
    "## Compile the Model"
   ]
  },
  {
   "cell_type": "code",
   "execution_count": 17,
   "id": "254028de",
   "metadata": {
    "scrolled": false
   },
   "outputs": [],
   "source": [
    "#Compile and fit the model\n",
    "\n",
    "callback = tf.keras.callbacks.EarlyStopping(monitor='loss', patience = 1)\n",
    "\n",
    "model.compile(loss='sparse_categorical_crossentropy',optimizer='adam',metrics=['accuracy'])"
   ]
  },
  {
   "cell_type": "markdown",
   "id": "63d21c8d",
   "metadata": {},
   "source": [
    "## Data Augmentation "
   ]
  },
  {
   "cell_type": "code",
   "execution_count": 18,
   "id": "1aade34c",
   "metadata": {},
   "outputs": [],
   "source": [
    "#ImageDataGenerator requires 4 dimensions, including the color (greyscale or colored images)\n",
    "if(use_data_augmentation):\n",
    "    x_train = x_train.reshape(x_train.shape[0],img_size,img_size,1)"
   ]
  },
  {
   "cell_type": "code",
   "execution_count": 20,
   "id": "27d41dea",
   "metadata": {},
   "outputs": [],
   "source": [
    "if(use_data_augmentation):\n",
    "    batch_size = 16\n",
    "    data_generator = tf.keras.preprocessing.image.ImageDataGenerator(width_shift_range = 0.1, height_shift_range = 0.1,\n",
    "                                                                     horizontal_flip = True, vertical_flip = True,)\n",
    "                                                                     #rotation_range = 180,\n",
    "                                                                     #fill_mode = 'constant')\n",
    "    train_generator = data_generator.flow(x_train,y_train,batch_size)\n",
    "    steps_per_epoch = x_train.shape[0]//batch_size # divided twice by batch_size?"
   ]
  },
  {
   "cell_type": "markdown",
   "id": "c4bb39c4",
   "metadata": {},
   "source": [
    "## Fit the model "
   ]
  },
  {
   "cell_type": "code",
   "execution_count": 21,
   "id": "7dfffd30",
   "metadata": {
    "scrolled": false
   },
   "outputs": [
    {
     "name": "stdout",
     "output_type": "stream",
     "text": [
      "Epoch 1/50\n",
      "2887/2887 [==============================] - 22s 7ms/step - loss: 0.3982 - accuracy: 0.8874 - val_loss: 0.3278 - val_accuracy: 0.9077\n",
      "Epoch 2/50\n",
      "2887/2887 [==============================] - 20s 7ms/step - loss: 0.2411 - accuracy: 0.9293 - val_loss: 0.2193 - val_accuracy: 0.9316\n",
      "Epoch 3/50\n",
      "2887/2887 [==============================] - 21s 7ms/step - loss: 0.2090 - accuracy: 0.9376 - val_loss: 0.1865 - val_accuracy: 0.9416\n",
      "Epoch 4/50\n",
      "2887/2887 [==============================] - 22s 8ms/step - loss: 0.2008 - accuracy: 0.9408 - val_loss: 0.1764 - val_accuracy: 0.9459\n",
      "Epoch 5/50\n",
      "2887/2887 [==============================] - 21s 7ms/step - loss: 0.1892 - accuracy: 0.9444 - val_loss: 0.1561 - val_accuracy: 0.9502\n",
      "Epoch 6/50\n",
      "2887/2887 [==============================] - 21s 7ms/step - loss: 0.1830 - accuracy: 0.9456 - val_loss: 0.1756 - val_accuracy: 0.9426\n",
      "Epoch 7/50\n",
      "2887/2887 [==============================] - 22s 7ms/step - loss: 0.1784 - accuracy: 0.9473 - val_loss: 0.1513 - val_accuracy: 0.9497\n",
      "Epoch 8/50\n",
      "2887/2887 [==============================] - 21s 7ms/step - loss: 0.1710 - accuracy: 0.9487 - val_loss: 0.1528 - val_accuracy: 0.9518\n",
      "Epoch 9/50\n",
      "2887/2887 [==============================] - 21s 7ms/step - loss: 0.1666 - accuracy: 0.9516 - val_loss: 0.2065 - val_accuracy: 0.9402\n",
      "Epoch 10/50\n",
      "2887/2887 [==============================] - 21s 7ms/step - loss: 0.1653 - accuracy: 0.9512 - val_loss: 0.1722 - val_accuracy: 0.9480\n",
      "Epoch 11/50\n",
      "2887/2887 [==============================] - 21s 7ms/step - loss: 0.1601 - accuracy: 0.9526 - val_loss: 0.1497 - val_accuracy: 0.9523\n",
      "Epoch 12/50\n",
      "2887/2887 [==============================] - 21s 7ms/step - loss: 0.1568 - accuracy: 0.9532 - val_loss: 0.1589 - val_accuracy: 0.9496\n",
      "Epoch 13/50\n",
      "2887/2887 [==============================] - 21s 7ms/step - loss: 0.1578 - accuracy: 0.9521 - val_loss: 0.1594 - val_accuracy: 0.9509\n"
     ]
    }
   ],
   "source": [
    "#Used with the Data Augmentation segment:\n",
    "\n",
    "if(use_data_augmentation):\n",
    "    history = model.fit(train_generator, validation_data = [x_test, y_test], steps_per_epoch = steps_per_epoch, epochs = 50,\n",
    "                 callbacks = [callback])\n",
    "    \n",
    "# 0.9189 val_accuracy"
   ]
  },
  {
   "cell_type": "code",
   "execution_count": 22,
   "id": "8c976d07",
   "metadata": {},
   "outputs": [],
   "source": [
    "#Used normally without Data Augmentation Segment:\n",
    "\n",
    "if(not use_data_augmentation):\n",
    "    history = model.fit(#x,y,\n",
    "                        x_train, y_train, validation_data = [x_test,y_test], \n",
    "                        epochs= 20, verbose = 1, callbacks=[callback], batch_size = 64)"
   ]
  },
  {
   "cell_type": "markdown",
   "id": "5f40427f",
   "metadata": {},
   "source": [
    "## Graphing the accuracies and losses "
   ]
  },
  {
   "cell_type": "code",
   "execution_count": 23,
   "id": "70389f6d",
   "metadata": {},
   "outputs": [
    {
     "data": {
      "text/plain": [
       "<matplotlib.legend.Legend at 0x2447f54c3d0>"
      ]
     },
     "execution_count": 23,
     "metadata": {},
     "output_type": "execute_result"
    },
    {
     "data": {
      "image/png": "[encoded data removed]",
      "text/plain": [
       "<Figure size 432x288 with 1 Axes>"
      ]
     },
     "metadata": {
      "needs_background": "light"
     },
     "output_type": "display_data"
    }
   ],
   "source": [
    "import matplotlib.pyplot as plt\n",
    "\n",
    "plt.plot(history.history['accuracy'], label = 'accuracy')\n",
    "plt.plot(history.history['val_accuracy'], label = 'val_accuracy')\n",
    "plt.legend()"
   ]
  },
  {
   "cell_type": "code",
   "execution_count": 24,
   "id": "07f2b8d7",
   "metadata": {
    "scrolled": true
   },
   "outputs": [
    {
     "data": {
      "text/plain": [
       "<matplotlib.legend.Legend at 0x2447f5778e0>"
      ]
     },
     "execution_count": 24,
     "metadata": {},
     "output_type": "execute_result"
    },
    {
     "data": {
      "image/png": "[encoded data removed]",
      "text/plain": [
       "<Figure size 432x288 with 1 Axes>"
      ]
     },
     "metadata": {
      "needs_background": "light"
     },
     "output_type": "display_data"
    }
   ],
   "source": [
    "import matplotlib.pyplot as plt\n",
    "\n",
    "plt.plot(history.history['loss'], label = 'loss')\n",
    "plt.plot(history.history['val_loss'], label = 'val_loss')\n",
    "plt.legend()"
   ]
  },
  {
   "cell_type": "markdown",
   "id": "23495c48",
   "metadata": {},
   "source": [
    "## Evaluating model with training data "
   ]
  },
  {
   "cell_type": "code",
   "execution_count": 25,
   "id": "79593211",
   "metadata": {},
   "outputs": [],
   "source": [
    "### The way to measure the model performance\n",
    "\n",
    "import numpy as np\n",
    "import matplotlib.pyplot as plt\n",
    "from sklearn.metrics import roc_auc_score, roc_curve\n",
    "\n",
    "def evaluation_measurement(y_valid, y_pred, num_classes=9, output_fig=False):\n",
    "    fpr = {}\n",
    "    tpr = {}\n",
    "    thresh ={}\n",
    "    mcauc = []\n",
    "    for i in range(num_classes):    \n",
    "        fpr[i], tpr[i], thresh[i] = roc_curve(y_valid, y_pred[:, i], pos_label=i)\n",
    "        auc_score = roc_auc_score(y_valid, y_pred, multi_class = 'ovr')  #'ovr'\n",
    "        mcauc.append(auc_score)\n",
    "\n",
    "    plt.plot(fpr[0], tpr[0], linestyle='--',color='orange', label='Class 0 vs Rest')\n",
    "    plt.plot(fpr[1], tpr[1], linestyle='--',color='green', label='Class 1 vs Rest')\n",
    "    plt.plot(fpr[2], tpr[2], linestyle='--',color='blue', label='Class 2 vs Rest')\n",
    "    plt.plot(fpr[3], tpr[3], linestyle='--',color='yellow', label='Class 3 vs Rest')\n",
    "    plt.title('Multiclass ROC curve')\n",
    "    plt.xlabel('False Positive Rate')\n",
    "    plt.ylabel('True Positive Rate')\n",
    "    plt.legend(loc='best')\n",
    "    \n",
    "    print(\"MCAUC= \", np.mean(mcauc))\n",
    "    \n",
    "    if output_fig:\n",
    "        plt.savefig('Multiclass ROC', dpi=300)"
   ]
  },
  {
   "cell_type": "code",
   "execution_count": 26,
   "id": "bfc93f40",
   "metadata": {},
   "outputs": [],
   "source": [
    "y_pred = model.predict(x_test)"
   ]
  },
  {
   "cell_type": "code",
   "execution_count": null,
   "id": "514361af",
   "metadata": {},
   "outputs": [],
   "source": [
    "evaluation_measurement(y_test,y_pred)"
   ]
  },
  {
   "cell_type": "code",
   "execution_count": null,
   "id": "66b69ac8",
   "metadata": {},
   "outputs": [],
   "source": [
    "y_test"
   ]
  },
  {
   "cell_type": "code",
   "execution_count": null,
   "id": "a88f2ead",
   "metadata": {},
   "outputs": [],
   "source": [
    "y_pred"
   ]
  },
  {
   "cell_type": "markdown",
   "id": "606db949",
   "metadata": {},
   "source": [
    "## Opening pickle with data for predictions "
   ]
  },
  {
   "cell_type": "code",
   "execution_count": null,
   "id": "7ef08a68",
   "metadata": {},
   "outputs": [],
   "source": [
    "pickle_in = open(\"x_to_predict.pickle\",\"rb\")\n",
    "x_testing = pickle.load(pickle_in)"
   ]
  },
  {
   "cell_type": "code",
   "execution_count": null,
   "id": "af29875d",
   "metadata": {},
   "outputs": [],
   "source": [
    "x_testing.shape"
   ]
  },
  {
   "cell_type": "code",
   "execution_count": null,
   "id": "205ee972",
   "metadata": {},
   "outputs": [],
   "source": [
    "x_testing"
   ]
  },
  {
   "cell_type": "markdown",
   "id": "76e4dc79",
   "metadata": {},
   "source": [
    "## Predictions"
   ]
  },
  {
   "cell_type": "code",
   "execution_count": null,
   "id": "271f84e0",
   "metadata": {
    "scrolled": true
   },
   "outputs": [],
   "source": [
    "%%time\n",
    "predictions = model.predict(x_testing)"
   ]
  },
  {
   "cell_type": "code",
   "execution_count": null,
   "id": "ef58fb04",
   "metadata": {
    "scrolled": true
   },
   "outputs": [],
   "source": [
    "len(predictions)"
   ]
  },
  {
   "cell_type": "code",
   "execution_count": null,
   "id": "954edccf",
   "metadata": {
    "scrolled": true
   },
   "outputs": [],
   "source": [
    "predictions[0]"
   ]
  },
  {
   "cell_type": "markdown",
   "id": "8fa3edf3",
   "metadata": {},
   "source": [
    "## Uploading CSV "
   ]
  },
  {
   "cell_type": "code",
   "execution_count": null,
   "id": "f0bff521",
   "metadata": {},
   "outputs": [],
   "source": [
    "#for uploading\n",
    "\n",
    "import pandas as pd\n",
    "\n",
    "pred_df = pd.DataFrame(predictions, columns = [\"Type 0\", \"Type 1\", \"Type 2\", \"Type 3\", \"Type 4\", \"Type 5\", \"Type 6\", \"Type 7\", \"Type 8\"])\n",
    "#pred_df['Id'] = pred_df.reset_index().index"
   ]
  },
  {
   "cell_type": "code",
   "execution_count": null,
   "id": "cef035fe",
   "metadata": {
    "scrolled": false
   },
   "outputs": [],
   "source": [
    "pred_df"
   ]
  },
  {
   "cell_type": "code",
   "execution_count": null,
   "id": "e22358c1",
   "metadata": {},
   "outputs": [],
   "source": [
    "pred_df.to_csv('./uploads/#colored60_60_augmenting.csv',index_label=\"Id\")"
   ]
  },
  {
   "cell_type": "code",
   "execution_count": null,
   "id": "637035b9",
   "metadata": {},
   "outputs": [],
   "source": [
    "#del x,y, x_train, y_train, x_test, y_test, pred_df, history, model\n",
    "#gc.collect()"
   ]
  },
  {
   "cell_type": "markdown",
   "id": "c1c2e060",
   "metadata": {},
   "source": [
    "# -------------------------------------------------- "
   ]
  }
 ],
 "metadata": {
  "kernelspec": {
   "display_name": "tf-alex",
   "language": "python",
   "name": "tf-alex"
  },
  "language_info": {
   "codemirror_mode": {
    "name": "ipython",
    "version": 3
   },
   "file_extension": ".py",
   "mimetype": "text/x-python",
   "name": "python",
   "nbconvert_exporter": "python",
   "pygments_lexer": "ipython3",
   "version": "3.10.1"
  }
 },
 "nbformat": 4,
 "nbformat_minor": 5
}
