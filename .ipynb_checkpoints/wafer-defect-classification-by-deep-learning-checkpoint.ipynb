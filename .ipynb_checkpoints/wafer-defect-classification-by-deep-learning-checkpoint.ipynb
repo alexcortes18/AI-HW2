{
 "cells": [
  {
   "cell_type": "code",
   "execution_count": 1,
   "metadata": {
    "_cell_guid": "b1076dfc-b9ad-4769-8c92-a6c4dae69d19",
    "_uuid": "8f2839f25d086af736a60e9eeb907d3b93b6e0e5"
   },
   "outputs": [],
   "source": [
    "# This Python 3 environment comes with many helpful analytics libraries installed\n",
    "# It is defined by the kaggle/python docker image: https://github.com/kaggle/docker-python\n",
    "# For example, here's several helpful packages to load in \n",
    "\n",
    "import numpy as np # linear algebra\n",
    "import pandas as pd # data processing, CSV file I/O (e.g. pd.read_csv)\n",
    "\n",
    "# Input data files are available in the \"../input/\" directory.\n",
    "# For example, running this (by clicking run or pressing Shift+Enter) will list all files under the input directory\n",
    "\n",
    "import os\n",
    "for dirname, _, filenames in os.walk('/kaggle/input'):\n",
    "    for filename in filenames:\n",
    "        print(os.path.join(dirname, filename))\n",
    "\n",
    "# Any results you write to the current directory are saved as output."
   ]
  },
  {
   "cell_type": "code",
   "execution_count": 11,
   "metadata": {
    "_cell_guid": "79c7e3d0-c299-4dcb-8224-4455121ee9b0",
    "_uuid": "d629ff2d2480ee46fbb7e2d37f6b5fab8052498a",
    "scrolled": true
   },
   "outputs": [],
   "source": [
    "import os\n",
    "from os.path import join\n",
    "\n",
    "import numpy as np\n",
    "import pandas as pd\n",
    "\n",
    "import tensorflow as tf\n",
    "import keras\n",
    "from keras import layers, Input, models\n",
    "#from keras.utils import to_categorical\n",
    "from keras.wrappers.scikit_learn import KerasClassifier \n",
    "from sklearn.model_selection import KFold \n",
    "from sklearn.model_selection import cross_val_score\n",
    "\n",
    "from sklearn.model_selection import train_test_split\n",
    "\n",
    "import matplotlib.pyplot as plt\n",
    "\n",
    "import sys\n",
    "import pickle"
   ]
  },
  {
   "cell_type": "code",
   "execution_count": 12,
   "metadata": {},
   "outputs": [
    {
     "name": "stdout",
     "output_type": "stream",
     "text": [
      "Original columns:  Index(['waferMap', 'dieSize', 'lotName', 'waferIndex', 'trianTestLabel',\n",
      "       'failureType', 'wafer_size', 'failureNum'],\n",
      "      dtype='object')\n",
      "C:\\Users\\alexc\\OneDrive\\Documents\\Taiwan Classes\\Second Semester\\Introduction to Artificial Intelligence\\Kaggle\\HW2/wafer-map-hw2/train_set.pkl\n"
     ]
    }
   ],
   "source": [
    "datapath = sys.path[0] + '/wafer-map-hw2/train_set.pkl'\n",
    "\n",
    "with open(datapath, \"rb\") as file:\n",
    "    df = pickle.load(file)\n",
    "    \n",
    "print(\"Original columns: \", df.columns)\n",
    "print(datapath)"
   ]
  },
  {
   "cell_type": "code",
   "execution_count": 13,
   "metadata": {},
   "outputs": [
    {
     "data": {
      "text/html": [
       "<div>\n",
       "<style scoped>\n",
       "    .dataframe tbody tr th:only-of-type {\n",
       "        vertical-align: middle;\n",
       "    }\n",
       "\n",
       "    .dataframe tbody tr th {\n",
       "        vertical-align: top;\n",
       "    }\n",
       "\n",
       "    .dataframe thead th {\n",
       "        text-align: right;\n",
       "    }\n",
       "</style>\n",
       "<table border=\"1\" class=\"dataframe\">\n",
       "  <thead>\n",
       "    <tr style=\"text-align: right;\">\n",
       "      <th></th>\n",
       "      <th>waferMap</th>\n",
       "      <th>dieSize</th>\n",
       "      <th>lotName</th>\n",
       "      <th>waferIndex</th>\n",
       "      <th>trianTestLabel</th>\n",
       "      <th>failureType</th>\n",
       "      <th>wafer_size</th>\n",
       "      <th>failureNum</th>\n",
       "    </tr>\n",
       "  </thead>\n",
       "  <tbody>\n",
       "    <tr>\n",
       "      <th>153523</th>\n",
       "      <td>[[0, 0, 0, 0, 0, 0, 0, 0, 0, 0, 0, 0, 0, 0, 0,...</td>\n",
       "      <td>1534.0</td>\n",
       "      <td>lot46729</td>\n",
       "      <td>21.0</td>\n",
       "      <td>0</td>\n",
       "      <td>none</td>\n",
       "      <td>(45, 43)</td>\n",
       "      <td>8</td>\n",
       "    </tr>\n",
       "    <tr>\n",
       "      <th>153524</th>\n",
       "      <td>[[0, 0, 0, 0, 0, 0, 0, 0, 0, 0, 0, 0, 0, 0, 0,...</td>\n",
       "      <td>1534.0</td>\n",
       "      <td>lot46729</td>\n",
       "      <td>22.0</td>\n",
       "      <td>0</td>\n",
       "      <td>none</td>\n",
       "      <td>(45, 43)</td>\n",
       "      <td>8</td>\n",
       "    </tr>\n",
       "    <tr>\n",
       "      <th>153525</th>\n",
       "      <td>[[0, 0, 0, 0, 0, 0, 0, 0, 0, 0, 0, 0, 0, 0, 0,...</td>\n",
       "      <td>1534.0</td>\n",
       "      <td>lot46729</td>\n",
       "      <td>23.0</td>\n",
       "      <td>0</td>\n",
       "      <td>none</td>\n",
       "      <td>(45, 43)</td>\n",
       "      <td>8</td>\n",
       "    </tr>\n",
       "    <tr>\n",
       "      <th>153526</th>\n",
       "      <td>[[0, 0, 0, 0, 0, 0, 0, 0, 0, 0, 0, 0, 0, 0, 0,...</td>\n",
       "      <td>1534.0</td>\n",
       "      <td>lot46729</td>\n",
       "      <td>24.0</td>\n",
       "      <td>0</td>\n",
       "      <td>none</td>\n",
       "      <td>(45, 43)</td>\n",
       "      <td>8</td>\n",
       "    </tr>\n",
       "    <tr>\n",
       "      <th>153527</th>\n",
       "      <td>[[0, 0, 0, 0, 0, 0, 0, 0, 0, 0, 0, 0, 0, 0, 0,...</td>\n",
       "      <td>1534.0</td>\n",
       "      <td>lot46729</td>\n",
       "      <td>25.0</td>\n",
       "      <td>0</td>\n",
       "      <td>none</td>\n",
       "      <td>(45, 43)</td>\n",
       "      <td>8</td>\n",
       "    </tr>\n",
       "  </tbody>\n",
       "</table>\n",
       "</div>"
      ],
      "text/plain": [
       "                                                 waferMap  dieSize   lotName  \\\n",
       "153523  [[0, 0, 0, 0, 0, 0, 0, 0, 0, 0, 0, 0, 0, 0, 0,...   1534.0  lot46729   \n",
       "153524  [[0, 0, 0, 0, 0, 0, 0, 0, 0, 0, 0, 0, 0, 0, 0,...   1534.0  lot46729   \n",
       "153525  [[0, 0, 0, 0, 0, 0, 0, 0, 0, 0, 0, 0, 0, 0, 0,...   1534.0  lot46729   \n",
       "153526  [[0, 0, 0, 0, 0, 0, 0, 0, 0, 0, 0, 0, 0, 0, 0,...   1534.0  lot46729   \n",
       "153527  [[0, 0, 0, 0, 0, 0, 0, 0, 0, 0, 0, 0, 0, 0, 0,...   1534.0  lot46729   \n",
       "\n",
       "        waferIndex  trianTestLabel failureType wafer_size  failureNum  \n",
       "153523        21.0               0        none   (45, 43)           8  \n",
       "153524        22.0               0        none   (45, 43)           8  \n",
       "153525        23.0               0        none   (45, 43)           8  \n",
       "153526        24.0               0        none   (45, 43)           8  \n",
       "153527        25.0               0        none   (45, 43)           8  "
      ]
     },
     "execution_count": 13,
     "metadata": {},
     "output_type": "execute_result"
    }
   ],
   "source": [
    "df.tail()"
   ]
  },
  {
   "cell_type": "code",
   "execution_count": 14,
   "metadata": {},
   "outputs": [],
   "source": [
    "df = df.drop(['waferIndex'], axis = 1)"
   ]
  },
  {
   "cell_type": "code",
   "execution_count": 15,
   "metadata": {},
   "outputs": [
    {
     "data": {
      "text/html": [
       "<div>\n",
       "<style scoped>\n",
       "    .dataframe tbody tr th:only-of-type {\n",
       "        vertical-align: middle;\n",
       "    }\n",
       "\n",
       "    .dataframe tbody tr th {\n",
       "        vertical-align: top;\n",
       "    }\n",
       "\n",
       "    .dataframe thead th {\n",
       "        text-align: right;\n",
       "    }\n",
       "</style>\n",
       "<table border=\"1\" class=\"dataframe\">\n",
       "  <thead>\n",
       "    <tr style=\"text-align: right;\">\n",
       "      <th></th>\n",
       "      <th>waferMap</th>\n",
       "      <th>dieSize</th>\n",
       "      <th>lotName</th>\n",
       "      <th>trianTestLabel</th>\n",
       "      <th>failureType</th>\n",
       "      <th>wafer_size</th>\n",
       "      <th>failureNum</th>\n",
       "      <th>waferMapDim</th>\n",
       "    </tr>\n",
       "  </thead>\n",
       "  <tbody>\n",
       "    <tr>\n",
       "      <th>13543</th>\n",
       "      <td>[[0, 0, 0, 0, 0, 0, 0, 0, 0, 0, 0, 0, 0, 0, 0,...</td>\n",
       "      <td>2072.0</td>\n",
       "      <td>lot14328</td>\n",
       "      <td>0</td>\n",
       "      <td>Edge-Ring</td>\n",
       "      <td>(56, 48)</td>\n",
       "      <td>3</td>\n",
       "      <td>(56, 48)</td>\n",
       "    </tr>\n",
       "    <tr>\n",
       "      <th>1555</th>\n",
       "      <td>[[0, 0, 0, 0, 0, 0, 0, 0, 0, 0, 1, 1, 1, 1, 1,...</td>\n",
       "      <td>533.0</td>\n",
       "      <td>lot74</td>\n",
       "      <td>0</td>\n",
       "      <td>none</td>\n",
       "      <td>(26, 26)</td>\n",
       "      <td>8</td>\n",
       "      <td>(26, 26)</td>\n",
       "    </tr>\n",
       "    <tr>\n",
       "      <th>68472</th>\n",
       "      <td>[[0, 0, 0, 0, 0, 0, 0, 0, 0, 0, 0, 0, 1, 2, 2,...</td>\n",
       "      <td>516.0</td>\n",
       "      <td>lot43008</td>\n",
       "      <td>0</td>\n",
       "      <td>none</td>\n",
       "      <td>(25, 27)</td>\n",
       "      <td>8</td>\n",
       "      <td>(25, 27)</td>\n",
       "    </tr>\n",
       "    <tr>\n",
       "      <th>111605</th>\n",
       "      <td>[[0, 0, 0, 0, 0, 0, 0, 0, 0, 0, 1, 2, 1, 1, 1,...</td>\n",
       "      <td>518.0</td>\n",
       "      <td>lot44959</td>\n",
       "      <td>0</td>\n",
       "      <td>none</td>\n",
       "      <td>(27, 25)</td>\n",
       "      <td>8</td>\n",
       "      <td>(27, 25)</td>\n",
       "    </tr>\n",
       "    <tr>\n",
       "      <th>8098</th>\n",
       "      <td>[[0, 0, 0, 0, 0, 0, 0, 0, 0, 0, 0, 0, 0, 2, 2,...</td>\n",
       "      <td>1075.0</td>\n",
       "      <td>lot2525</td>\n",
       "      <td>0</td>\n",
       "      <td>Edge-Ring</td>\n",
       "      <td>(38, 36)</td>\n",
       "      <td>3</td>\n",
       "      <td>(38, 36)</td>\n",
       "    </tr>\n",
       "  </tbody>\n",
       "</table>\n",
       "</div>"
      ],
      "text/plain": [
       "                                                 waferMap  dieSize   lotName  \\\n",
       "13543   [[0, 0, 0, 0, 0, 0, 0, 0, 0, 0, 0, 0, 0, 0, 0,...   2072.0  lot14328   \n",
       "1555    [[0, 0, 0, 0, 0, 0, 0, 0, 0, 0, 1, 1, 1, 1, 1,...    533.0     lot74   \n",
       "68472   [[0, 0, 0, 0, 0, 0, 0, 0, 0, 0, 0, 0, 1, 2, 2,...    516.0  lot43008   \n",
       "111605  [[0, 0, 0, 0, 0, 0, 0, 0, 0, 0, 1, 2, 1, 1, 1,...    518.0  lot44959   \n",
       "8098    [[0, 0, 0, 0, 0, 0, 0, 0, 0, 0, 0, 0, 0, 2, 2,...   1075.0   lot2525   \n",
       "\n",
       "        trianTestLabel failureType wafer_size  failureNum waferMapDim  \n",
       "13543                0   Edge-Ring   (56, 48)           3    (56, 48)  \n",
       "1555                 0        none   (26, 26)           8    (26, 26)  \n",
       "68472                0        none   (25, 27)           8    (25, 27)  \n",
       "111605               0        none   (27, 25)           8    (27, 25)  \n",
       "8098                 0   Edge-Ring   (38, 36)           3    (38, 36)  "
      ]
     },
     "execution_count": 15,
     "metadata": {},
     "output_type": "execute_result"
    }
   ],
   "source": [
    "def find_dim(x):\n",
    "    dim0=np.size(x,axis=0)\n",
    "    dim1=np.size(x,axis=1)\n",
    "    return dim0,dim1\n",
    "df['waferMapDim']=df.waferMap.apply(find_dim)\n",
    "df.sample(5)"
   ]
  },
  {
   "cell_type": "code",
   "execution_count": 16,
   "metadata": {},
   "outputs": [],
   "source": [
    "df['failureNum']=df.failureType\n",
    "df['trainTestNum']=df.trianTestLabel\n",
    "mapping_type={'Center':0,'Donut':1,'Edge-Loc':2,'Edge-Ring':3,'Loc':4,'Random':5,'Scratch':6,'Near-full':7,'none':8}\n",
    "mapping_traintest={'Training':0,'Test':1}\n",
    "df=df.replace({'failureNum':mapping_type, 'trainTestNum':mapping_traintest})"
   ]
  },
  {
   "cell_type": "code",
   "execution_count": 17,
   "metadata": {},
   "outputs": [
    {
     "data": {
      "text/plain": [
       "54355"
      ]
     },
     "execution_count": 17,
     "metadata": {},
     "output_type": "execute_result"
    }
   ],
   "source": [
    "tol_wafers = df.shape[0]\n",
    "tol_wafers"
   ]
  },
  {
   "cell_type": "code",
   "execution_count": 18,
   "metadata": {},
   "outputs": [
    {
     "data": {
      "text/plain": [
       "(54355, 17625, 36730)"
      ]
     },
     "execution_count": 18,
     "metadata": {},
     "output_type": "execute_result"
    }
   ],
   "source": [
    "df_withlabel = df[(df['failureNum']>=0) & (df['failureNum']<=8)]\n",
    "df_withlabel =df_withlabel.reset_index()\n",
    "df_withpattern = df[(df['failureNum']>=0) & (df['failureNum']<=7)]\n",
    "df_withpattern = df_withpattern.reset_index()\n",
    "df_nonpattern = df[(df['failureNum']==8)]\n",
    "df_withlabel.shape[0], df_withpattern.shape[0], df_nonpattern.shape[0]"
   ]
  },
  {
   "cell_type": "code",
   "execution_count": 19,
   "metadata": {},
   "outputs": [
    {
     "name": "stderr",
     "output_type": "stream",
     "text": [
      "<ipython-input-19-f39ffd72e4fb>:22: UserWarning: FixedFormatter should only be used together with FixedLocator\n",
      "  ax2.set_xticklabels(labels2)\n"
     ]
    },
    {
     "data": {
      "image/png": "[encoded data removed]",
      "text/plain": [
       "<Figure size 1440x324 with 2 Axes>"
      ]
     },
     "metadata": {
      "needs_background": "light"
     },
     "output_type": "display_data"
    }
   ],
   "source": [
    "import matplotlib.pyplot as plt\n",
    "%matplotlib inline\n",
    "\n",
    "from matplotlib import gridspec\n",
    "fig = plt.figure(figsize=(20, 4.5)) \n",
    "gs = gridspec.GridSpec(1, 2, width_ratios=[1, 2.5]) \n",
    "ax1 = plt.subplot(gs[0])\n",
    "ax2 = plt.subplot(gs[1])\n",
    "\n",
    "no_wafers=[tol_wafers-df_withlabel.shape[0], df_withpattern.shape[0], df_nonpattern.shape[0]]\n",
    "\n",
    "colors = ['blue', 'green', 'red']\n",
    "explode = (0.1, 0, 0)  # explode 1st slice\n",
    "labels = ['no-label','label and pattern','label and non-pattern']\n",
    "ax1.pie(no_wafers, explode=explode, labels=labels, colors=colors, autopct='%1.1f%%', shadow=True, startangle=140)\n",
    "\n",
    "uni_pattern=np.unique(df_withpattern.failureNum, return_counts=True)\n",
    "labels2 = ['','Center','Donut','Edge-Loc','Edge-Ring','Loc','Random','Scratch','Near-full']\n",
    "ax2.bar(uni_pattern[0],uni_pattern[1]/df_withpattern.shape[0], color='green', align='center', alpha=0.9)\n",
    "ax2.set_title(\"failure type frequency\")\n",
    "ax2.set_ylabel(\"% of pattern wafers\")\n",
    "ax2.set_xticklabels(labels2)\n",
    "\n",
    "plt.show()"
   ]
  },
  {
   "cell_type": "code",
   "execution_count": null,
   "metadata": {},
   "outputs": [],
   "source": [
    "sub_df = df.loc[df['waferMapDim'] == (26, 26)]\n",
    "sub_wafer = sub_df['waferMap'].values\n",
    "\n",
    "sw = np.ones((1, 26, 26))\n",
    "label = list()\n",
    "\n",
    "for i in range(len(sub_df)):\n",
    "    # skip null label\n",
    "    if len(sub_df.iloc[i,:]['failureType']) == 0:\n",
    "        continue\n",
    "    sw = np.concatenate((sw, sub_df.iloc[i,:]['waferMap'].reshape(1, 26, 26)))\n",
    "    label.append(sub_df.iloc[i,:]['failureType'][0][0])"
   ]
  },
  {
   "cell_type": "code",
   "execution_count": 12,
   "metadata": {},
   "outputs": [],
   "source": [
    "x = sw[1:]\n",
    "y = np.array(label).reshape((-1,1))"
   ]
  },
  {
   "cell_type": "code",
   "execution_count": 13,
   "metadata": {},
   "outputs": [
    {
     "name": "stdout",
     "output_type": "stream",
     "text": [
      "x shape : (14366, 26, 26), y shape : (14366, 1)\n"
     ]
    }
   ],
   "source": [
    "print('x shape : {}, y shape : {}'.format(x.shape, y.shape))"
   ]
  },
  {
   "cell_type": "code",
   "execution_count": 14,
   "metadata": {},
   "outputs": [
    {
     "data": {
      "image/png": "[encoded data removed]",
      "text/plain": [
       "<Figure size 432x288 with 1 Axes>"
      ]
     },
     "metadata": {
      "needs_background": "light"
     },
     "output_type": "display_data"
    },
    {
     "name": "stdout",
     "output_type": "stream",
     "text": [
      "Faulty case : ['none'] \n"
     ]
    }
   ],
   "source": [
    "# plot 1st data\n",
    "plt.imshow(x[2040])\n",
    "plt.show()\n",
    "\n",
    "# check faulty case\n",
    "print('Faulty case : {} '.format(y[2040]))"
   ]
  },
  {
   "cell_type": "code",
   "execution_count": 15,
   "metadata": {},
   "outputs": [],
   "source": [
    "x = x.reshape((-1, 26, 26, 1))"
   ]
  },
  {
   "cell_type": "code",
   "execution_count": 16,
   "metadata": {},
   "outputs": [
    {
     "name": "stdout",
     "output_type": "stream",
     "text": [
      "Faulty case list : ['Center' 'Donut' 'Edge-Loc' 'Edge-Ring' 'Loc' 'Near-full' 'Random'\n",
      " 'Scratch' 'none']\n"
     ]
    }
   ],
   "source": [
    "faulty_case = np.unique(y)\n",
    "print('Faulty case list : {}'.format(faulty_case))"
   ]
  },
  {
   "cell_type": "code",
   "execution_count": 17,
   "metadata": {},
   "outputs": [
    {
     "name": "stdout",
     "output_type": "stream",
     "text": [
      "Center : 90\n",
      "Donut : 1\n",
      "Edge-Loc : 296\n",
      "Edge-Ring : 31\n",
      "Loc : 297\n",
      "Near-full : 16\n",
      "Random : 74\n",
      "Scratch : 72\n",
      "none : 13489\n"
     ]
    }
   ],
   "source": [
    "for f in faulty_case :\n",
    "    print('{} : {}'.format(f, len(y[y==f])))"
   ]
  },
  {
   "cell_type": "code",
   "execution_count": 18,
   "metadata": {},
   "outputs": [],
   "source": [
    "new_x = np.zeros((len(x), 26, 26, 3))\n",
    "\n",
    "for w in range(len(x)):\n",
    "    for i in range(26):\n",
    "        for j in range(26):\n",
    "            new_x[w, i, j, int(x[w, i, j])] = 1"
   ]
  },
  {
   "cell_type": "code",
   "execution_count": 19,
   "metadata": {},
   "outputs": [
    {
     "data": {
      "text/plain": [
       "(14366, 26, 26, 3)"
      ]
     },
     "execution_count": 19,
     "metadata": {},
     "output_type": "execute_result"
    }
   ],
   "source": [
    "new_x.shape"
   ]
  },
  {
   "cell_type": "code",
   "execution_count": 20,
   "metadata": {},
   "outputs": [],
   "source": [
    "# Encoder\n",
    "input_shape = (26, 26, 3)\n",
    "input_tensor = Input(input_shape)\n",
    "encode = layers.Conv2D(64, (3,3), padding='same', activation='relu')(input_tensor)\n",
    "\n",
    "latent_vector = layers.MaxPool2D()(encode)\n",
    "\n",
    "# Decoder\n",
    "decode_layer_1 = layers.Conv2DTranspose(64, (3,3), padding='same', activation='relu')\n",
    "decode_layer_2 = layers.UpSampling2D()\n",
    "output_tensor = layers.Conv2DTranspose(3, (3,3), padding='same', activation='sigmoid')\n",
    "\n",
    "# connect decoder layers\n",
    "decode = decode_layer_1(latent_vector)\n",
    "decode = decode_layer_2(decode)\n",
    "\n",
    "ae = models.Model(input_tensor, output_tensor(decode))\n",
    "ae.compile(optimizer = 'Adam',\n",
    "              loss = 'mse',\n",
    "             )"
   ]
  },
  {
   "cell_type": "code",
   "execution_count": 21,
   "metadata": {},
   "outputs": [],
   "source": [
    "epoch=30\n",
    "batch_size=1024"
   ]
  },
  {
   "cell_type": "code",
   "execution_count": 22,
   "metadata": {},
   "outputs": [
    {
     "name": "stdout",
     "output_type": "stream",
     "text": [
      "Epoch 1/30\n",
      " - 7s - loss: 0.1606\n",
      "Epoch 2/30\n",
      " - 1s - loss: 0.1015\n",
      "Epoch 3/30\n",
      " - 1s - loss: 0.0837\n",
      "Epoch 4/30\n",
      " - 1s - loss: 0.0730\n",
      "Epoch 5/30\n",
      " - 1s - loss: 0.0634\n",
      "Epoch 6/30\n",
      " - 1s - loss: 0.0554\n",
      "Epoch 7/30\n",
      " - 1s - loss: 0.0487\n",
      "Epoch 8/30\n",
      " - 1s - loss: 0.0431\n",
      "Epoch 9/30\n",
      " - 1s - loss: 0.0380\n",
      "Epoch 10/30\n",
      " - 1s - loss: 0.0333\n",
      "Epoch 11/30\n",
      " - 1s - loss: 0.0293\n",
      "Epoch 12/30\n",
      " - 1s - loss: 0.0262\n",
      "Epoch 13/30\n",
      " - 1s - loss: 0.0236\n",
      "Epoch 14/30\n",
      " - 1s - loss: 0.0215\n",
      "Epoch 15/30\n",
      " - 1s - loss: 0.0198\n",
      "Epoch 16/30\n",
      " - 1s - loss: 0.0183\n",
      "Epoch 17/30\n",
      " - 1s - loss: 0.0170\n",
      "Epoch 18/30\n",
      " - 1s - loss: 0.0159\n",
      "Epoch 19/30\n",
      " - 1s - loss: 0.0149\n",
      "Epoch 20/30\n",
      " - 1s - loss: 0.0139\n",
      "Epoch 21/30\n",
      " - 1s - loss: 0.0131\n",
      "Epoch 22/30\n",
      " - 1s - loss: 0.0123\n",
      "Epoch 23/30\n",
      " - 1s - loss: 0.0116\n",
      "Epoch 24/30\n",
      " - 1s - loss: 0.0109\n",
      "Epoch 25/30\n",
      " - 1s - loss: 0.0103\n",
      "Epoch 26/30\n",
      " - 1s - loss: 0.0098\n",
      "Epoch 27/30\n",
      " - 1s - loss: 0.0093\n",
      "Epoch 28/30\n",
      " - 1s - loss: 0.0088\n",
      "Epoch 29/30\n",
      " - 1s - loss: 0.0084\n",
      "Epoch 30/30\n",
      " - 1s - loss: 0.0080\n"
     ]
    },
    {
     "data": {
      "text/plain": [
       "<keras.callbacks.History at 0x7fc1cd5e3588>"
      ]
     },
     "execution_count": 22,
     "metadata": {},
     "output_type": "execute_result"
    }
   ],
   "source": [
    "# start train\n",
    "ae.fit(new_x, new_x,\n",
    "       batch_size=batch_size,\n",
    "       epochs=epoch,\n",
    "       verbose=2)"
   ]
  },
  {
   "cell_type": "code",
   "execution_count": 23,
   "metadata": {},
   "outputs": [],
   "source": [
    "encoder = models.Model(input_tensor, latent_vector)"
   ]
  },
  {
   "cell_type": "code",
   "execution_count": 24,
   "metadata": {},
   "outputs": [],
   "source": [
    "decoder_input = Input((13, 13, 64))\n",
    "decode = decode_layer_1(decoder_input)\n",
    "decode = decode_layer_2(decode)\n",
    "\n",
    "decoder = models.Model(decoder_input, output_tensor(decode))"
   ]
  },
  {
   "cell_type": "code",
   "execution_count": 25,
   "metadata": {},
   "outputs": [],
   "source": [
    "# Encode original faulty wafer\n",
    "encoded_x = encoder.predict(new_x)"
   ]
  },
  {
   "cell_type": "code",
   "execution_count": 26,
   "metadata": {},
   "outputs": [],
   "source": [
    "# Add noise to encoded latent faulty wafers vector.\n",
    "noised_encoded_x = encoded_x + np.random.normal(loc=0, scale=0.1, size = (len(encoded_x), 13, 13, 64))"
   ]
  },
  {
   "cell_type": "code",
   "execution_count": 27,
   "metadata": {},
   "outputs": [
    {
     "data": {
      "text/plain": [
       "<matplotlib.image.AxesImage at 0x7fc1e01fe4a8>"
      ]
     },
     "execution_count": 27,
     "metadata": {},
     "output_type": "execute_result"
    },
    {
     "data": {
      "image/png": "[encoded data removed]",
      "text/plain": [
       "<Figure size 432x288 with 1 Axes>"
      ]
     },
     "metadata": {
      "needs_background": "light"
     },
     "output_type": "display_data"
    }
   ],
   "source": [
    "# check original faulty wafer data\n",
    "plt.imshow(np.argmax(new_x[3], axis=2))"
   ]
  },
  {
   "cell_type": "code",
   "execution_count": 28,
   "metadata": {},
   "outputs": [
    {
     "data": {
      "text/plain": [
       "<matplotlib.image.AxesImage at 0x7fc1e0394f98>"
      ]
     },
     "execution_count": 28,
     "metadata": {},
     "output_type": "execute_result"
    },
    {
     "data": {
      "image/png": "[encoded data removed]",
      "text/plain": [
       "<Figure size 432x288 with 1 Axes>"
      ]
     },
     "metadata": {
      "needs_background": "light"
     },
     "output_type": "display_data"
    }
   ],
   "source": [
    "# check new noised faulty wafer data\n",
    "noised_gen_x = np.argmax(decoder.predict(noised_encoded_x), axis=3)\n",
    "plt.imshow(noised_gen_x[3])"
   ]
  },
  {
   "cell_type": "code",
   "execution_count": 29,
   "metadata": {},
   "outputs": [],
   "source": [
    "# augment function define\n",
    "def gen_data(wafer, label):\n",
    "    # Encode input wafer\n",
    "    encoded_x = encoder.predict(wafer)\n",
    "    \n",
    "    # dummy array for collecting noised wafer\n",
    "    gen_x = np.zeros((1, 26, 26, 3))\n",
    "    \n",
    "    # Make wafer until total # of wafer to 2000\n",
    "    for i in range((2000//len(wafer)) + 1):\n",
    "        noised_encoded_x = encoded_x + np.random.normal(loc=0, scale=0.1, size = (len(encoded_x), 13, 13, 64)) \n",
    "        noised_gen_x = decoder.predict(noised_encoded_x)\n",
    "        gen_x = np.concatenate((gen_x, noised_gen_x), axis=0)\n",
    "    # also make label vector with same length\n",
    "    gen_y = np.full((len(gen_x), 1), label)\n",
    "    \n",
    "    # return date without 1st dummy data.\n",
    "    return gen_x[1:], gen_y[1:]"
   ]
  },
  {
   "cell_type": "code",
   "execution_count": 30,
   "metadata": {},
   "outputs": [],
   "source": [
    "# Augmentation for all faulty case.\n",
    "for f in faulty_case : \n",
    "    # skip none case\n",
    "    if f == 'none' : \n",
    "        continue\n",
    "    \n",
    "    gen_x, gen_y = gen_data(new_x[np.where(y==f)[0]], f)\n",
    "    new_x = np.concatenate((new_x, gen_x), axis=0)\n",
    "    y = np.concatenate((y, gen_y))"
   ]
  },
  {
   "cell_type": "code",
   "execution_count": 31,
   "metadata": {},
   "outputs": [
    {
     "name": "stdout",
     "output_type": "stream",
     "text": [
      "After Generate new_x shape : (30707, 26, 26, 3), new_y shape : (30707, 1)\n"
     ]
    }
   ],
   "source": [
    "print('After Generate new_x shape : {}, new_y shape : {}'.format(new_x.shape, y.shape))"
   ]
  },
  {
   "cell_type": "code",
   "execution_count": 32,
   "metadata": {},
   "outputs": [
    {
     "name": "stdout",
     "output_type": "stream",
     "text": [
      "Center : 2160\n",
      "Donut : 2002\n",
      "Edge-Loc : 2368\n",
      "Edge-Ring : 2046\n",
      "Loc : 2376\n",
      "Near-full : 2032\n",
      "Random : 2146\n",
      "Scratch : 2088\n",
      "none : 13489\n"
     ]
    }
   ],
   "source": [
    "for f in faulty_case :\n",
    "    print('{} : {}'.format(f, len(y[y==f])))"
   ]
  },
  {
   "cell_type": "code",
   "execution_count": 33,
   "metadata": {},
   "outputs": [],
   "source": [
    "none_idx = np.where(y=='none')[0][np.random.choice(len(np.where(y=='none')[0]), size=11000, replace=False)]"
   ]
  },
  {
   "cell_type": "code",
   "execution_count": 34,
   "metadata": {},
   "outputs": [],
   "source": [
    "new_x = np.delete(new_x, none_idx, axis=0)\n",
    "new_y = np.delete(y, none_idx, axis=0)"
   ]
  },
  {
   "cell_type": "code",
   "execution_count": 35,
   "metadata": {},
   "outputs": [
    {
     "name": "stdout",
     "output_type": "stream",
     "text": [
      "After Delete \"none\" class new_x shape : (19707, 26, 26, 3), new_y shape : (19707, 1)\n"
     ]
    }
   ],
   "source": [
    "print('After Delete \"none\" class new_x shape : {}, new_y shape : {}'.format(new_x.shape, new_y.shape))"
   ]
  },
  {
   "cell_type": "code",
   "execution_count": 36,
   "metadata": {},
   "outputs": [
    {
     "name": "stdout",
     "output_type": "stream",
     "text": [
      "Center : 2160\n",
      "Donut : 2002\n",
      "Edge-Loc : 2368\n",
      "Edge-Ring : 2046\n",
      "Loc : 2376\n",
      "Near-full : 2032\n",
      "Random : 2146\n",
      "Scratch : 2088\n",
      "none : 2489\n"
     ]
    }
   ],
   "source": [
    "for f in faulty_case :\n",
    "    print('{} : {}'.format(f, len(new_y[new_y==f])))"
   ]
  },
  {
   "cell_type": "code",
   "execution_count": 37,
   "metadata": {},
   "outputs": [],
   "source": [
    "for i, l in enumerate(faulty_case):\n",
    "    new_y[new_y==l] = i\n",
    "    \n",
    "# one-hot-encoding\n",
    "new_y = to_categorical(new_y)"
   ]
  },
  {
   "cell_type": "code",
   "execution_count": 38,
   "metadata": {},
   "outputs": [
    {
     "data": {
      "text/plain": [
       "(705, 26, 26, 3)"
      ]
     },
     "execution_count": 38,
     "metadata": {},
     "output_type": "execute_result"
    }
   ],
   "source": [
    "new_X=new_x[0:19000]\n",
    "new_Y=new_y[0:19000]\n",
    "test_x=new_x[19001:19706]\n",
    "test_y=new_y[19001:19706]\n",
    "test_x.shape"
   ]
  },
  {
   "cell_type": "code",
   "execution_count": 39,
   "metadata": {},
   "outputs": [],
   "source": [
    "x_train, x_test, y_train, y_test = train_test_split(new_X, new_Y,\n",
    "                                                    test_size=0.33,\n",
    "                                                    random_state=2019)"
   ]
  },
  {
   "cell_type": "code",
   "execution_count": 40,
   "metadata": {},
   "outputs": [
    {
     "name": "stdout",
     "output_type": "stream",
     "text": [
      "Train x : (12730, 26, 26, 3), y : (12730, 9)\n",
      "Test x: (6270, 26, 26, 3), y : (6270, 9)\n"
     ]
    }
   ],
   "source": [
    "print('Train x : {}, y : {}'.format(x_train.shape, y_train.shape))\n",
    "print('Test x: {}, y : {}'.format(x_test.shape, y_test.shape))"
   ]
  },
  {
   "cell_type": "code",
   "execution_count": 41,
   "metadata": {},
   "outputs": [],
   "source": [
    "def create_model():\n",
    "    input_shape = (26, 26, 3)\n",
    "    input_tensor = Input(input_shape)\n",
    "\n",
    "    conv_1 = layers.Conv2D(16, (3,3), activation='relu', padding='same')(input_tensor)\n",
    "    conv_2 = layers.Conv2D(64, (3,3), activation='relu', padding='same')(conv_1)\n",
    "    conv_3 = layers.Conv2D(128, (3,3), activation='relu', padding='same')(conv_2)\n",
    "\n",
    "    flat = layers.Flatten()(conv_3)\n",
    "\n",
    "    dense_1 = layers.Dense(512, activation='relu')(flat)\n",
    "    dense_2 = layers.Dense(128, activation='relu')(dense_1)\n",
    "    output_tensor = layers.Dense(9, activation='softmax')(dense_2)\n",
    "\n",
    "    model = models.Model(input_tensor, output_tensor)\n",
    "    model.compile(optimizer='Adam',\n",
    "                 loss='categorical_crossentropy',\n",
    "                 metrics=['accuracy'])\n",
    "\n",
    "    return model"
   ]
  },
  {
   "cell_type": "code",
   "execution_count": 42,
   "metadata": {},
   "outputs": [
    {
     "name": "stdout",
     "output_type": "stream",
     "text": [
      "Epoch 1/30\n",
      " - 4s - loss: 2.2454 - acc: 0.3998\n",
      "Epoch 2/30\n",
      " - 1s - loss: 0.8462 - acc: 0.6914\n",
      "Epoch 3/30\n",
      " - 1s - loss: 0.4931 - acc: 0.8223\n",
      "Epoch 4/30\n",
      " - 1s - loss: 0.5228 - acc: 0.8505\n",
      "Epoch 5/30\n",
      " - 1s - loss: 0.2987 - acc: 0.9187\n",
      "Epoch 6/30\n",
      " - 1s - loss: 0.1622 - acc: 0.9566\n",
      "Epoch 7/30\n",
      " - 1s - loss: 0.0928 - acc: 0.9760\n",
      "Epoch 8/30\n",
      " - 1s - loss: 0.0763 - acc: 0.9802\n",
      "Epoch 9/30\n",
      " - 1s - loss: 0.0419 - acc: 0.9903\n",
      "Epoch 10/30\n",
      " - 1s - loss: 0.0273 - acc: 0.9948\n",
      "Epoch 11/30\n",
      " - 1s - loss: 0.0166 - acc: 0.9976\n",
      "Epoch 12/30\n",
      " - 1s - loss: 0.0121 - acc: 0.9980\n",
      "Epoch 13/30\n",
      " - 1s - loss: 0.0111 - acc: 0.9972\n",
      "Epoch 14/30\n",
      " - 1s - loss: 0.0082 - acc: 0.9986\n",
      "Epoch 15/30\n",
      " - 1s - loss: 0.0066 - acc: 0.9987\n",
      "Epoch 16/30\n",
      " - 1s - loss: 0.0091 - acc: 0.9981\n",
      "Epoch 17/30\n",
      " - 1s - loss: 0.0103 - acc: 0.9979\n",
      "Epoch 18/30\n",
      " - 1s - loss: 0.0096 - acc: 0.9987\n",
      "Epoch 19/30\n",
      " - 1s - loss: 0.0066 - acc: 0.9989\n",
      "Epoch 20/30\n",
      " - 1s - loss: 0.0058 - acc: 0.9988\n",
      "Epoch 21/30\n",
      " - 1s - loss: 0.0043 - acc: 0.9989\n",
      "Epoch 22/30\n",
      " - 1s - loss: 0.0044 - acc: 0.9989\n",
      "Epoch 23/30\n",
      " - 1s - loss: 0.0053 - acc: 0.9984\n",
      "Epoch 24/30\n",
      " - 1s - loss: 0.0039 - acc: 0.9985\n",
      "Epoch 25/30\n",
      " - 1s - loss: 0.0046 - acc: 0.9988\n",
      "Epoch 26/30\n",
      " - 1s - loss: 0.0059 - acc: 0.9985\n",
      "Epoch 27/30\n",
      " - 1s - loss: 0.0059 - acc: 0.9989\n",
      "Epoch 28/30\n",
      " - 1s - loss: 0.0058 - acc: 0.9981\n",
      "Epoch 29/30\n",
      " - 1s - loss: 0.0039 - acc: 0.9988\n",
      "Epoch 30/30\n",
      " - 1s - loss: 0.0043 - acc: 0.9982\n",
      "Epoch 1/30\n",
      " - 3s - loss: 2.9482 - acc: 0.2222\n",
      "Epoch 2/30\n",
      " - 1s - loss: 1.1951 - acc: 0.6080\n",
      "Epoch 3/30\n",
      " - 1s - loss: 0.8000 - acc: 0.7104\n",
      "Epoch 4/30\n",
      " - 1s - loss: 0.5120 - acc: 0.8187\n",
      "Epoch 5/30\n",
      " - 1s - loss: 0.3506 - acc: 0.8742\n",
      "Epoch 6/30\n",
      " - 1s - loss: 0.2443 - acc: 0.9269\n",
      "Epoch 7/30\n",
      " - 1s - loss: 0.1692 - acc: 0.9511\n",
      "Epoch 8/30\n",
      " - 1s - loss: 0.0986 - acc: 0.9770\n",
      "Epoch 9/30\n",
      " - 1s - loss: 0.0612 - acc: 0.9879\n",
      "Epoch 10/30\n",
      " - 1s - loss: 0.0349 - acc: 0.9945\n",
      "Epoch 11/30\n",
      " - 1s - loss: 0.0213 - acc: 0.9979\n",
      "Epoch 12/30\n",
      " - 1s - loss: 0.0170 - acc: 0.9975\n",
      "Epoch 13/30\n",
      " - 1s - loss: 0.0116 - acc: 0.9981\n",
      "Epoch 14/30\n",
      " - 1s - loss: 0.0084 - acc: 0.9987\n",
      "Epoch 15/30\n",
      " - 1s - loss: 0.0084 - acc: 0.9986\n",
      "Epoch 16/30\n",
      " - 1s - loss: 0.0093 - acc: 0.9984\n",
      "Epoch 17/30\n",
      " - 1s - loss: 0.0093 - acc: 0.9987\n",
      "Epoch 18/30\n",
      " - 1s - loss: 0.0073 - acc: 0.9982\n",
      "Epoch 19/30\n",
      " - 1s - loss: 0.0060 - acc: 0.9989\n",
      "Epoch 20/30\n",
      " - 1s - loss: 0.0061 - acc: 0.9985\n",
      "Epoch 21/30\n",
      " - 1s - loss: 0.0059 - acc: 0.9986\n",
      "Epoch 22/30\n",
      " - 1s - loss: 0.0096 - acc: 0.9979\n",
      "Epoch 23/30\n",
      " - 1s - loss: 0.0347 - acc: 0.9934\n",
      "Epoch 24/30\n",
      " - 1s - loss: 5.0369 - acc: 0.5391\n",
      "Epoch 25/30\n",
      " - 1s - loss: 3.0918 - acc: 0.5187\n",
      "Epoch 26/30\n",
      " - 1s - loss: 1.0979 - acc: 0.6730\n",
      "Epoch 27/30\n",
      " - 1s - loss: 0.4224 - acc: 0.8465\n",
      "Epoch 28/30\n",
      " - 1s - loss: 0.1743 - acc: 0.9532\n",
      "Epoch 29/30\n",
      " - 1s - loss: 0.0794 - acc: 0.9775\n",
      "Epoch 30/30\n",
      " - 1s - loss: 0.0457 - acc: 0.9897\n",
      "Epoch 1/30\n",
      " - 3s - loss: 2.2367 - acc: 0.3223\n",
      "Epoch 2/30\n",
      " - 1s - loss: 0.9060 - acc: 0.6612\n",
      "Epoch 3/30\n",
      " - 1s - loss: 0.7930 - acc: 0.7651\n",
      "Epoch 4/30\n",
      " - 1s - loss: 0.5420 - acc: 0.8343\n",
      "Epoch 5/30\n",
      " - 1s - loss: 0.3333 - acc: 0.8924\n",
      "Epoch 6/30\n",
      " - 1s - loss: 0.1972 - acc: 0.9441\n",
      "Epoch 7/30\n",
      " - 1s - loss: 0.1181 - acc: 0.9684\n",
      "Epoch 8/30\n",
      " - 1s - loss: 0.0641 - acc: 0.9846\n",
      "Epoch 9/30\n",
      " - 1s - loss: 0.0339 - acc: 0.9932\n",
      "Epoch 10/30\n",
      " - 1s - loss: 0.0207 - acc: 0.9961\n",
      "Epoch 11/30\n",
      " - 1s - loss: 0.0151 - acc: 0.9975\n",
      "Epoch 12/30\n",
      " - 1s - loss: 0.0131 - acc: 0.9973\n",
      "Epoch 13/30\n",
      " - 1s - loss: 0.0124 - acc: 0.9975\n",
      "Epoch 14/30\n",
      " - 1s - loss: 0.0140 - acc: 0.9968\n",
      "Epoch 15/30\n",
      " - 1s - loss: 0.0118 - acc: 0.9973\n",
      "Epoch 16/30\n",
      " - 1s - loss: 0.0101 - acc: 0.9979\n",
      "Epoch 17/30\n",
      " - 1s - loss: 0.0121 - acc: 0.9982\n",
      "Epoch 18/30\n",
      " - 1s - loss: 0.0095 - acc: 0.9981\n",
      "Epoch 19/30\n",
      " - 1s - loss: 0.0083 - acc: 0.9982\n",
      "Epoch 20/30\n",
      " - 1s - loss: 0.0104 - acc: 0.9976\n",
      "Epoch 21/30\n",
      " - 1s - loss: 0.0102 - acc: 0.9975\n",
      "Epoch 22/30\n",
      " - 1s - loss: 0.0107 - acc: 0.9980\n",
      "Epoch 23/30\n",
      " - 1s - loss: 0.0092 - acc: 0.9980\n",
      "Epoch 24/30\n",
      " - 1s - loss: 0.0109 - acc: 0.9972\n",
      "Epoch 25/30\n",
      " - 1s - loss: 0.0098 - acc: 0.9978\n",
      "Epoch 26/30\n",
      " - 1s - loss: 0.0094 - acc: 0.9978\n",
      "Epoch 27/30\n",
      " - 1s - loss: 0.0075 - acc: 0.9981\n",
      "Epoch 28/30\n",
      " - 1s - loss: 0.0080 - acc: 0.9982\n",
      "Epoch 29/30\n",
      " - 1s - loss: 0.0061 - acc: 0.9986\n",
      "Epoch 30/30\n",
      " - 1s - loss: 0.0073 - acc: 0.9986\n",
      "Simple CNN Cross validation score : 0.9833\n"
     ]
    }
   ],
   "source": [
    "model = KerasClassifier(build_fn=create_model, epochs=30, batch_size=1024, verbose=2) \n",
    "# 3-Fold Crossvalidation\n",
    "kfold = KFold(n_splits=3, shuffle=True, random_state=2019) \n",
    "results = cross_val_score(model, x_train, y_train, cv=kfold)\n",
    "# Check 3-fold model's mean accuracy\n",
    "print('Simple CNN Cross validation score : {:.4f}'.format(np.mean(results)))"
   ]
  },
  {
   "cell_type": "code",
   "execution_count": 43,
   "metadata": {},
   "outputs": [
    {
     "name": "stdout",
     "output_type": "stream",
     "text": [
      "Train on 12730 samples, validate on 6270 samples\n",
      "Epoch 1/30\n",
      " - 4s - loss: 1.9970 - acc: 0.3897 - val_loss: 0.9990 - val_acc: 0.6754\n",
      "Epoch 2/30\n",
      " - 2s - loss: 0.8095 - acc: 0.7253 - val_loss: 0.6484 - val_acc: 0.8051\n",
      "Epoch 3/30\n",
      " - 2s - loss: 0.4719 - acc: 0.8554 - val_loss: 0.3474 - val_acc: 0.8684\n",
      "Epoch 4/30\n",
      " - 2s - loss: 0.2440 - acc: 0.9266 - val_loss: 0.1800 - val_acc: 0.9475\n",
      "Epoch 5/30\n",
      " - 2s - loss: 0.1248 - acc: 0.9649 - val_loss: 0.1054 - val_acc: 0.9662\n",
      "Epoch 6/30\n",
      " - 2s - loss: 0.0691 - acc: 0.9827 - val_loss: 0.0764 - val_acc: 0.9839\n",
      "Epoch 7/30\n",
      " - 2s - loss: 0.0371 - acc: 0.9926 - val_loss: 0.0351 - val_acc: 0.9914\n",
      "Epoch 8/30\n",
      " - 2s - loss: 0.0183 - acc: 0.9967 - val_loss: 0.0316 - val_acc: 0.9920\n",
      "Epoch 9/30\n",
      " - 2s - loss: 0.0156 - acc: 0.9966 - val_loss: 0.0298 - val_acc: 0.9922\n",
      "Epoch 10/30\n",
      " - 2s - loss: 0.0111 - acc: 0.9977 - val_loss: 0.0324 - val_acc: 0.9907\n",
      "Epoch 11/30\n",
      " - 2s - loss: 0.0093 - acc: 0.9980 - val_loss: 0.0242 - val_acc: 0.9935\n",
      "Epoch 12/30\n",
      " - 2s - loss: 0.0104 - acc: 0.9977 - val_loss: 0.0316 - val_acc: 0.9896\n",
      "Epoch 13/30\n",
      " - 2s - loss: 0.0085 - acc: 0.9984 - val_loss: 0.0288 - val_acc: 0.9925\n",
      "Epoch 14/30\n",
      " - 2s - loss: 0.0093 - acc: 0.9977 - val_loss: 0.0266 - val_acc: 0.9927\n",
      "Epoch 15/30\n",
      " - 2s - loss: 0.0089 - acc: 0.9980 - val_loss: 0.0231 - val_acc: 0.9943\n",
      "Epoch 16/30\n",
      " - 2s - loss: 0.0076 - acc: 0.9984 - val_loss: 0.0265 - val_acc: 0.9936\n",
      "Epoch 17/30\n",
      " - 2s - loss: 0.0066 - acc: 0.9987 - val_loss: 0.0338 - val_acc: 0.9923\n",
      "Epoch 18/30\n",
      " - 2s - loss: 0.0077 - acc: 0.9986 - val_loss: 0.0223 - val_acc: 0.9946\n",
      "Epoch 19/30\n",
      " - 2s - loss: 0.0068 - acc: 0.9984 - val_loss: 0.0237 - val_acc: 0.9941\n",
      "Epoch 20/30\n",
      " - 2s - loss: 0.0065 - acc: 0.9985 - val_loss: 0.0308 - val_acc: 0.9917\n",
      "Epoch 21/30\n",
      " - 2s - loss: 0.0065 - acc: 0.9980 - val_loss: 0.0337 - val_acc: 0.9917\n",
      "Epoch 22/30\n",
      " - 2s - loss: 0.0093 - acc: 0.9979 - val_loss: 0.0375 - val_acc: 0.9917\n",
      "Epoch 23/30\n",
      " - 2s - loss: 0.0092 - acc: 0.9977 - val_loss: 0.0271 - val_acc: 0.9923\n",
      "Epoch 24/30\n",
      " - 2s - loss: 0.0057 - acc: 0.9988 - val_loss: 0.0225 - val_acc: 0.9947\n",
      "Epoch 25/30\n",
      " - 2s - loss: 0.0054 - acc: 0.9987 - val_loss: 0.0239 - val_acc: 0.9938\n",
      "Epoch 26/30\n",
      " - 2s - loss: 0.0046 - acc: 0.9987 - val_loss: 0.0255 - val_acc: 0.9939\n",
      "Epoch 27/30\n",
      " - 2s - loss: 0.0063 - acc: 0.9982 - val_loss: 0.0252 - val_acc: 0.9944\n",
      "Epoch 28/30\n",
      " - 2s - loss: 0.0067 - acc: 0.9984 - val_loss: 0.0463 - val_acc: 0.9895\n",
      "Epoch 29/30\n",
      " - 2s - loss: 0.0090 - acc: 0.9980 - val_loss: 0.0271 - val_acc: 0.9938\n",
      "Epoch 30/30\n",
      " - 2s - loss: 0.0084 - acc: 0.9981 - val_loss: 0.0303 - val_acc: 0.9930\n"
     ]
    }
   ],
   "source": [
    "history = model.fit(x_train, y_train,\n",
    "         validation_data=[x_test, y_test],\n",
    "         epochs=epoch,\n",
    "         batch_size=batch_size,\n",
    "         )"
   ]
  },
  {
   "cell_type": "code",
   "execution_count": 44,
   "metadata": {},
   "outputs": [
    {
     "name": "stdout",
     "output_type": "stream",
     "text": [
      "Testing Accuracy: 0.9929824555509589\n"
     ]
    }
   ],
   "source": [
    "score = model.score(x_test, y_test)\n",
    "#print('Test Loss:', score[0])\n",
    "#print('Test accuracy:', score[1])\n",
    "print('Testing Accuracy:',score)"
   ]
  },
  {
   "cell_type": "code",
   "execution_count": 45,
   "metadata": {},
   "outputs": [
    {
     "data": {
      "image/png": "[encoded data removed]",
      "text/plain": [
       "<Figure size 432x288 with 1 Axes>"
      ]
     },
     "metadata": {
      "needs_background": "light"
     },
     "output_type": "display_data"
    },
    {
     "data": {
      "image/png": "[encoded data removed]",
      "text/plain": [
       "<Figure size 432x288 with 1 Axes>"
      ]
     },
     "metadata": {
      "needs_background": "light"
     },
     "output_type": "display_data"
    }
   ],
   "source": [
    "# accuracy plot \n",
    "plt.plot(history.history['acc'])\n",
    "plt.plot(history.history['val_acc'])\n",
    "plt.title('model accuracy')\n",
    "plt.ylabel('accuracy')\n",
    "plt.xlabel('epoch')\n",
    "plt.legend(['train', 'test'], loc='upper left')\n",
    "plt.show()\n",
    "\n",
    "# loss plot\n",
    "plt.plot(history.history['loss'])\n",
    "plt.plot(history.history['val_loss'])\n",
    "plt.title('model loss')\n",
    "plt.ylabel('loss')\n",
    "plt.xlabel('epoch')\n",
    "plt.legend(['train', 'test'], loc='upper left')\n",
    "plt.show()"
   ]
  }
 ],
 "metadata": {
  "kernelspec": {
   "display_name": "Python 3",
   "language": "python",
   "name": "python3"
  },
  "language_info": {
   "codemirror_mode": {
    "name": "ipython",
    "version": 3
   },
   "file_extension": ".py",
   "mimetype": "text/x-python",
   "name": "python",
   "nbconvert_exporter": "python",
   "pygments_lexer": "ipython3",
   "version": "3.8.8"
  }
 },
 "nbformat": 4,
 "nbformat_minor": 1
}
