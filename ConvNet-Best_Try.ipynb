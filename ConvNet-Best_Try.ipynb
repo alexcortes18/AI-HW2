{
 "cells": [
  {
   "cell_type": "markdown",
   "id": "ca96ed8c",
   "metadata": {},
   "source": [
    "## Import Data"
   ]
  },
  {
   "cell_type": "code",
   "execution_count": 1,
   "id": "5a623f80",
   "metadata": {
    "scrolled": true
   },
   "outputs": [],
   "source": [
    "import tensorflow as tf\n",
    "import numpy as np\n",
    "from tensorflow.keras.models import Sequential, Model\n",
    "from tensorflow.keras.layers import Dense, Dropout, Activation, Flatten, Conv2D, MaxPooling2D, Input, BatchNormalization, MaxPool2D\n",
    "import pickle\n",
    "import sys\n",
    "import cv2\n",
    "import matplotlib.pyplot as plt\n",
    "import gc # to delete used memory after running models"
   ]
  },
  {
   "cell_type": "code",
   "execution_count": 2,
   "id": "70a82b61",
   "metadata": {},
   "outputs": [
    {
     "name": "stdout",
     "output_type": "stream",
     "text": [
      "C:\\Users\\alexc\\AppData\\Local\\Programs\\Python\\Python310\\python.exe\n"
     ]
    }
   ],
   "source": [
    "import sys\n",
    "print(sys.executable)"
   ]
  },
  {
   "cell_type": "code",
   "execution_count": 3,
   "id": "6b30a242",
   "metadata": {
    "scrolled": true
   },
   "outputs": [
    {
     "name": "stdout",
     "output_type": "stream",
     "text": [
      "[name: \"/device:CPU:0\"\n",
      "device_type: \"CPU\"\n",
      "memory_limit: 268435456\n",
      "locality {\n",
      "}\n",
      "incarnation: 1329842182251267832\n",
      "xla_global_id: -1\n",
      ", name: \"/device:GPU:0\"\n",
      "device_type: \"GPU\"\n",
      "memory_limit: 4185718784\n",
      "locality {\n",
      "  bus_id: 1\n",
      "  links {\n",
      "  }\n",
      "}\n",
      "incarnation: 6887504791184553735\n",
      "physical_device_desc: \"device: 0, name: NVIDIA GeForce GTX 1660 Ti, pci bus id: 0000:01:00.0, compute capability: 7.5\"\n",
      "xla_global_id: 416903419\n",
      "]\n"
     ]
    }
   ],
   "source": [
    "from tensorflow.python.client import device_lib\n",
    "print(device_lib.list_local_devices())"
   ]
  },
  {
   "cell_type": "markdown",
   "id": "96e20610",
   "metadata": {},
   "source": [
    "### Techniques to use: "
   ]
  },
  {
   "cell_type": "code",
   "execution_count": 4,
   "id": "e502c519",
   "metadata": {},
   "outputs": [],
   "source": [
    "use_smote = False"
   ]
  },
  {
   "cell_type": "code",
   "execution_count": 5,
   "id": "842593c7",
   "metadata": {},
   "outputs": [],
   "source": [
    "use_data_augmentation = True"
   ]
  },
  {
   "cell_type": "markdown",
   "id": "9289dc5a",
   "metadata": {},
   "source": [
    "## Data Loading "
   ]
  },
  {
   "cell_type": "code",
   "execution_count": 6,
   "id": "580506a3",
   "metadata": {},
   "outputs": [],
   "source": [
    "pickle_in = open(\"x.pickle\",\"rb\")\n",
    "x = pickle.load(pickle_in)\n",
    "\n",
    "pickle_in = open(\"y.pickle\",\"rb\")\n",
    "y = pickle.load(pickle_in)"
   ]
  },
  {
   "cell_type": "code",
   "execution_count": 7,
   "id": "dc6d906b",
   "metadata": {
    "scrolled": false
   },
   "outputs": [
    {
     "data": {
      "text/plain": [
       "array([[[0, 0, 0, ..., 0, 0, 0],\n",
       "        [0, 0, 0, ..., 0, 0, 0],\n",
       "        [0, 0, 0, ..., 0, 0, 0],\n",
       "        ...,\n",
       "        [0, 0, 0, ..., 0, 0, 0],\n",
       "        [0, 0, 0, ..., 0, 0, 0],\n",
       "        [0, 0, 0, ..., 0, 0, 0]]], dtype=uint8)"
      ]
     },
     "execution_count": 7,
     "metadata": {},
     "output_type": "execute_result"
    }
   ],
   "source": [
    "np.set_printoptions(threshold=10)\n",
    "x[0:1]"
   ]
  },
  {
   "cell_type": "markdown",
   "id": "2d957d82",
   "metadata": {},
   "source": [
    "## Train Test Split"
   ]
  },
  {
   "cell_type": "code",
   "execution_count": 8,
   "id": "224c02d6",
   "metadata": {
    "scrolled": true
   },
   "outputs": [],
   "source": [
    "from sklearn.model_selection import train_test_split\n",
    "\n",
    "x_train, x_test, y_train, y_test = train_test_split(x,y,test_size = 0.15, random_state = 1)"
   ]
  },
  {
   "cell_type": "code",
   "execution_count": 9,
   "id": "2a17cd4e",
   "metadata": {
    "scrolled": true
   },
   "outputs": [
    {
     "name": "stdout",
     "output_type": "stream",
     "text": [
      "Unique classes:  9\n"
     ]
    }
   ],
   "source": [
    "#get the unique classes with set, and count them with len\n",
    "K = len(set(y_train))\n",
    "print(\"Unique classes: \", K)"
   ]
  },
  {
   "cell_type": "code",
   "execution_count": 10,
   "id": "20831a4b",
   "metadata": {
    "scrolled": true
   },
   "outputs": [
    {
     "data": {
      "text/plain": [
       "(46201, 60, 60)"
      ]
     },
     "execution_count": 10,
     "metadata": {},
     "output_type": "execute_result"
    }
   ],
   "source": [
    "x_train.shape"
   ]
  },
  {
   "cell_type": "code",
   "execution_count": 11,
   "id": "72d495d6",
   "metadata": {},
   "outputs": [
    {
     "data": {
      "image/png": "[encoded data removed]",
      "text/plain": [
       "<Figure size 432x288 with 1 Axes>"
      ]
     },
     "metadata": {
      "needs_background": "light"
     },
     "output_type": "display_data"
    }
   ],
   "source": [
    "plt.imshow(x_train[100])\n",
    "plt.show()"
   ]
  },
  {
   "cell_type": "code",
   "execution_count": 12,
   "id": "22fc6b1f",
   "metadata": {},
   "outputs": [
    {
     "data": {
      "text/plain": [
       "array([8, 8, 8, ..., 8, 8, 8], dtype=int64)"
      ]
     },
     "execution_count": 12,
     "metadata": {},
     "output_type": "execute_result"
    }
   ],
   "source": [
    "y"
   ]
  },
  {
   "cell_type": "markdown",
   "id": "2d5b69bc",
   "metadata": {},
   "source": [
    "## Smote "
   ]
  },
  {
   "cell_type": "code",
   "execution_count": 13,
   "id": "9ced9b0c",
   "metadata": {},
   "outputs": [],
   "source": [
    "#Reshaping x_train to use Smote"
   ]
  },
  {
   "cell_type": "code",
   "execution_count": 14,
   "id": "22e29e4e",
   "metadata": {
    "scrolled": true
   },
   "outputs": [],
   "source": [
    "from imblearn.over_sampling import SMOTE\n",
    "\n",
    "if(use_smote):\n",
    "    x_train_rows = len(x_train)\n",
    "    x_train_rows\n",
    "    x_train = x_train.reshape(x_train_rows,-1)\n",
    "    x_train.shape\n",
    "#----------------    \n",
    "    x_train_rows = len(x_train)\n",
    "    x_train = x_train.reshape(x_train_rows,-1)\n",
    "    #Majority Class counts: 29360\n",
    "#----------------   \n",
    "    number_samples = 10000 #29360\n",
    "\n",
    "    smote = SMOTE(sampling_strategy = {0:number_samples, 1:number_samples, 2:number_samples, 3:number_samples,\n",
    "         4:number_samples, 5:number_samples, 6:number_samples, 7:number_samples, 8:29360}, random_state= 4)\n",
    "    x_smote, y_smote = smote.fit_resample(x_train, y_train)\n",
    "    \n",
    "    print(x_smote.shape, x_smote[0].shape, y_smote.shape)\n",
    "#----------------\n",
    "    x_train = x_smote.reshape(-1,60,60)\n",
    "    y_train = y_smote\n",
    "    print(x_train.shape)"
   ]
  },
  {
   "cell_type": "markdown",
   "id": "733928ce",
   "metadata": {},
   "source": [
    "## Create Model"
   ]
  },
  {
   "cell_type": "code",
   "execution_count": 15,
   "id": "6ef608eb",
   "metadata": {},
   "outputs": [],
   "source": [
    "img_size = 60\n",
    "\n",
    "i = Input(shape=(img_size,img_size,1))\n",
    "x = Conv2D(32, (2,2), strides = 2, activation = \"relu\")(i)\n",
    "x = Conv2D(64, (2,2), strides = 2, activation = 'relu')(x)\n",
    "x = Conv2D(128, (3,3), strides = 2, activation = 'relu')(x) #original layer but dropping this layer improves prediction?\n",
    "#x = Conv2D(256, (3,3), strides = 2, activation = 'relu')(x)  # with this layer my prediction dropped 0.07 points\n",
    "x = Flatten()(x)\n",
    "x = Dropout(0.1)(x)\n",
    "x = Dense(512, activation = 'relu')(x)\n",
    "x = Dropout(0.1)(x)\n",
    "x = Dense(K, activation = 'softmax')(x)\n",
    "\n",
    "model = Model(i,x)"
   ]
  },
  {
   "cell_type": "code",
   "execution_count": 16,
   "id": "f0ec30dc",
   "metadata": {},
   "outputs": [
    {
     "data": {
      "text/plain": [
       "'\\nimg_size = 45\\n\\nmodel = Sequential()\\nmodel.add(Conv2D(input_shape=(img_size,img_size,1),filters=64,kernel_size=(3,3),padding=\"same\", activation=\"relu\"))\\nmodel.add(Conv2D(filters=64,kernel_size=(3,3),padding=\"same\", activation=\"relu\"))\\nmodel.add(MaxPool2D(pool_size=(2,2),strides=(2,2)))\\nmodel.add(Conv2D(filters=128, kernel_size=(3,3), padding=\"same\", activation=\"relu\"))\\nmodel.add(Conv2D(filters=128, kernel_size=(3,3), padding=\"same\", activation=\"relu\"))\\nmodel.add(MaxPool2D(pool_size=(2,2),strides=(2,2)))\\nmodel.add(Conv2D(filters=256, kernel_size=(3,3), padding=\"same\", activation=\"relu\"))\\nmodel.add(Conv2D(filters=256, kernel_size=(3,3), padding=\"same\", activation=\"relu\"))\\nmodel.add(Conv2D(filters=256, kernel_size=(3,3), padding=\"same\", activation=\"relu\"))\\nmodel.add(MaxPool2D(pool_size=(2,2),strides=(2,2)))\\nmodel.add(Conv2D(filters=512, kernel_size=(3,3), padding=\"same\", activation=\"relu\"))\\nmodel.add(Conv2D(filters=512, kernel_size=(3,3), padding=\"same\", activation=\"relu\"))\\nmodel.add(Conv2D(filters=512, kernel_size=(3,3), padding=\"same\", activation=\"relu\"))\\nmodel.add(MaxPool2D(pool_size=(2,2),strides=(2,2)))\\nmodel.add(Conv2D(filters=512, kernel_size=(3,3), padding=\"same\", activation=\"relu\"))\\nmodel.add(Conv2D(filters=512, kernel_size=(3,3), padding=\"same\", activation=\"relu\"))\\nmodel.add(Conv2D(filters=512, kernel_size=(3,3), padding=\"same\", activation=\"relu\"))\\nmodel.add(MaxPool2D(pool_size=(2,2),strides=(2,2)))\\n\\nmodel.add(Flatten())\\nmodel.add(Dense(units=4096,activation=\"relu\"))\\nmodel.add(Dense(units=4096,activation=\"relu\"))\\nmodel.add(Dense(9, activation=\"softmax\"))\\n\\nmodel.summary()\\n'"
      ]
     },
     "execution_count": 16,
     "metadata": {},
     "output_type": "execute_result"
    }
   ],
   "source": [
    "# from: https://towardsdatascience.com/step-by-step-vgg16-implementation-in-keras-for-beginners-a833c686ae6c\n",
    "'''\n",
    "img_size = 45\n",
    "\n",
    "model = Sequential()\n",
    "model.add(Conv2D(input_shape=(img_size,img_size,1),filters=64,kernel_size=(3,3),padding=\"same\", activation=\"relu\"))\n",
    "model.add(Conv2D(filters=64,kernel_size=(3,3),padding=\"same\", activation=\"relu\"))\n",
    "model.add(MaxPool2D(pool_size=(2,2),strides=(2,2)))\n",
    "model.add(Conv2D(filters=128, kernel_size=(3,3), padding=\"same\", activation=\"relu\"))\n",
    "model.add(Conv2D(filters=128, kernel_size=(3,3), padding=\"same\", activation=\"relu\"))\n",
    "model.add(MaxPool2D(pool_size=(2,2),strides=(2,2)))\n",
    "model.add(Conv2D(filters=256, kernel_size=(3,3), padding=\"same\", activation=\"relu\"))\n",
    "model.add(Conv2D(filters=256, kernel_size=(3,3), padding=\"same\", activation=\"relu\"))\n",
    "model.add(Conv2D(filters=256, kernel_size=(3,3), padding=\"same\", activation=\"relu\"))\n",
    "model.add(MaxPool2D(pool_size=(2,2),strides=(2,2)))\n",
    "model.add(Conv2D(filters=512, kernel_size=(3,3), padding=\"same\", activation=\"relu\"))\n",
    "model.add(Conv2D(filters=512, kernel_size=(3,3), padding=\"same\", activation=\"relu\"))\n",
    "model.add(Conv2D(filters=512, kernel_size=(3,3), padding=\"same\", activation=\"relu\"))\n",
    "model.add(MaxPool2D(pool_size=(2,2),strides=(2,2)))\n",
    "model.add(Conv2D(filters=512, kernel_size=(3,3), padding=\"same\", activation=\"relu\"))\n",
    "model.add(Conv2D(filters=512, kernel_size=(3,3), padding=\"same\", activation=\"relu\"))\n",
    "model.add(Conv2D(filters=512, kernel_size=(3,3), padding=\"same\", activation=\"relu\"))\n",
    "model.add(MaxPool2D(pool_size=(2,2),strides=(2,2)))\n",
    "\n",
    "model.add(Flatten())\n",
    "model.add(Dense(units=4096,activation=\"relu\"))\n",
    "model.add(Dense(units=4096,activation=\"relu\"))\n",
    "model.add(Dense(9, activation=\"softmax\"))\n",
    "\n",
    "model.summary()\n",
    "'''"
   ]
  },
  {
   "cell_type": "markdown",
   "id": "f73a1888",
   "metadata": {},
   "source": [
    "## Compile the Model"
   ]
  },
  {
   "cell_type": "code",
   "execution_count": 17,
   "id": "254028de",
   "metadata": {
    "scrolled": false
   },
   "outputs": [],
   "source": [
    "#Compile and fit the model\n",
    "\n",
    "callback = tf.keras.callbacks.EarlyStopping(monitor='loss', patience = 1)\n",
    "\n",
    "model.compile(loss='sparse_categorical_crossentropy',optimizer='adam',metrics=['accuracy'])"
   ]
  },
  {
   "cell_type": "markdown",
   "id": "63d21c8d",
   "metadata": {},
   "source": [
    "## Data Augmentation "
   ]
  },
  {
   "cell_type": "code",
   "execution_count": 18,
   "id": "1aade34c",
   "metadata": {},
   "outputs": [],
   "source": [
    "#ImageDataGenerator requires 4 dimensions, including the color (greyscale or colored images)\n",
    "if(use_data_augmentation):\n",
    "    x_train = x_train.reshape(x_train.shape[0],img_size,img_size,1)"
   ]
  },
  {
   "cell_type": "code",
   "execution_count": 19,
   "id": "27d41dea",
   "metadata": {},
   "outputs": [],
   "source": [
    "if(use_data_augmentation):\n",
    "    batch_size = 16\n",
    "    data_generator = tf.keras.preprocessing.image.ImageDataGenerator(width_shift_range = 0.1, height_shift_range = 0.1,)\n",
    "                                                                     #horizontal_flip = True, vertical_flip = True,)\n",
    "                                                                     #rotation_range = 180,\n",
    "                                                                     #fill_mode = 'constant')\n",
    "    train_generator = data_generator.flow(x_train,y_train,batch_size)\n",
    "    steps_per_epoch = x_train.shape[0]//batch_size # divided twice by batch_size?"
   ]
  },
  {
   "cell_type": "markdown",
   "id": "c4bb39c4",
   "metadata": {},
   "source": [
    "## Fit the model "
   ]
  },
  {
   "cell_type": "code",
   "execution_count": 20,
   "id": "7dfffd30",
   "metadata": {
    "scrolled": false
   },
   "outputs": [
    {
     "name": "stdout",
     "output_type": "stream",
     "text": [
      "Epoch 1/50\n",
      "2887/2887 [==============================] - 20s 6ms/step - loss: 0.3567 - accuracy: 0.8995 - val_loss: 0.2013 - val_accuracy: 0.9337\n",
      "Epoch 2/50\n",
      "2887/2887 [==============================] - 21s 7ms/step - loss: 0.2024 - accuracy: 0.9402 - val_loss: 0.1515 - val_accuracy: 0.9513\n",
      "Epoch 3/50\n",
      "2887/2887 [==============================] - 20s 7ms/step - loss: 0.1782 - accuracy: 0.9468 - val_loss: 0.1712 - val_accuracy: 0.9468\n",
      "Epoch 4/50\n",
      "2887/2887 [==============================] - 20s 7ms/step - loss: 0.1646 - accuracy: 0.9501 - val_loss: 0.1383 - val_accuracy: 0.9555\n",
      "Epoch 5/50\n",
      "2887/2887 [==============================] - 20s 7ms/step - loss: 0.1523 - accuracy: 0.9537 - val_loss: 0.1373 - val_accuracy: 0.9587\n",
      "Epoch 6/50\n",
      "2887/2887 [==============================] - 19s 7ms/step - loss: 0.1454 - accuracy: 0.9566 - val_loss: 0.1306 - val_accuracy: 0.9578\n",
      "Epoch 7/50\n",
      "2887/2887 [==============================] - 20s 7ms/step - loss: 0.1402 - accuracy: 0.9583 - val_loss: 0.1412 - val_accuracy: 0.9571\n",
      "Epoch 8/50\n",
      "2887/2887 [==============================] - 20s 7ms/step - loss: 0.1319 - accuracy: 0.9595 - val_loss: 0.1644 - val_accuracy: 0.9454\n",
      "Epoch 9/50\n",
      "2887/2887 [==============================] - 20s 7ms/step - loss: 0.1273 - accuracy: 0.9612 - val_loss: 0.1431 - val_accuracy: 0.9538\n",
      "Epoch 10/50\n",
      "2887/2887 [==============================] - 21s 7ms/step - loss: 0.1246 - accuracy: 0.9620 - val_loss: 0.1204 - val_accuracy: 0.9625\n",
      "Epoch 11/50\n",
      "2887/2887 [==============================] - 21s 7ms/step - loss: 0.1221 - accuracy: 0.9632 - val_loss: 0.1162 - val_accuracy: 0.9649\n",
      "Epoch 12/50\n",
      "2887/2887 [==============================] - 20s 7ms/step - loss: 0.1175 - accuracy: 0.9645 - val_loss: 0.1138 - val_accuracy: 0.9643\n",
      "Epoch 13/50\n",
      "2887/2887 [==============================] - 20s 7ms/step - loss: 0.1179 - accuracy: 0.9631 - val_loss: 0.1303 - val_accuracy: 0.9604\n"
     ]
    }
   ],
   "source": [
    "#Used with the Data Augmentation segment:\n",
    "\n",
    "if(use_data_augmentation):\n",
    "    history = model.fit(train_generator, validation_data = [x_test, y_test], steps_per_epoch = steps_per_epoch, epochs = 50,\n",
    "                 callbacks = [callback])\n",
    "    \n",
    "# 0.9189 val_accuracy"
   ]
  },
  {
   "cell_type": "code",
   "execution_count": 21,
   "id": "8c976d07",
   "metadata": {},
   "outputs": [],
   "source": [
    "#Used normally without Data Augmentation Segment:\n",
    "\n",
    "if(not use_data_augmentation):\n",
    "    history = model.fit(#x,y,\n",
    "                        x_train, y_train, validation_data = [x_test,y_test], \n",
    "                        epochs= 20, verbose = 1, callbacks=[callback], batch_size = 64)"
   ]
  },
  {
   "cell_type": "markdown",
   "id": "5f40427f",
   "metadata": {},
   "source": [
    "## Graphing the accuracies and losses "
   ]
  },
  {
   "cell_type": "code",
   "execution_count": 22,
   "id": "70389f6d",
   "metadata": {},
   "outputs": [
    {
     "data": {
      "text/plain": [
       "<matplotlib.legend.Legend at 0x2025b57b940>"
      ]
     },
     "execution_count": 22,
     "metadata": {},
     "output_type": "execute_result"
    },
    {
     "data": {
      "image/png": "[encoded data removed]",
      "text/plain": [
       "<Figure size 432x288 with 1 Axes>"
      ]
     },
     "metadata": {
      "needs_background": "light"
     },
     "output_type": "display_data"
    }
   ],
   "source": [
    "import matplotlib.pyplot as plt\n",
    "\n",
    "plt.plot(history.history['accuracy'], label = 'accuracy')\n",
    "plt.plot(history.history['val_accuracy'], label = 'val_accuracy')\n",
    "plt.legend()"
   ]
  },
  {
   "cell_type": "code",
   "execution_count": 23,
   "id": "07f2b8d7",
   "metadata": {
    "scrolled": true
   },
   "outputs": [
    {
     "data": {
      "text/plain": [
       "<matplotlib.legend.Legend at 0x203ea3c3550>"
      ]
     },
     "execution_count": 23,
     "metadata": {},
     "output_type": "execute_result"
    },
    {
     "data": {
      "image/png": "[encoded data removed]",
      "text/plain": [
       "<Figure size 432x288 with 1 Axes>"
      ]
     },
     "metadata": {
      "needs_background": "light"
     },
     "output_type": "display_data"
    }
   ],
   "source": [
    "import matplotlib.pyplot as plt\n",
    "\n",
    "plt.plot(history.history['loss'], label = 'loss')\n",
    "plt.plot(history.history['val_loss'], label = 'val_loss')\n",
    "plt.legend()"
   ]
  },
  {
   "cell_type": "markdown",
   "id": "23495c48",
   "metadata": {},
   "source": [
    "## Evaluating model with training data "
   ]
  },
  {
   "cell_type": "code",
   "execution_count": 24,
   "id": "79593211",
   "metadata": {},
   "outputs": [],
   "source": [
    "### The way to measure the model performance\n",
    "\n",
    "import numpy as np\n",
    "import matplotlib.pyplot as plt\n",
    "from sklearn.metrics import roc_auc_score, roc_curve\n",
    "\n",
    "def evaluation_measurement(y_valid, y_pred, num_classes=9, output_fig=False):\n",
    "    fpr = {}\n",
    "    tpr = {}\n",
    "    thresh ={}\n",
    "    mcauc = []\n",
    "    for i in range(num_classes):    \n",
    "        fpr[i], tpr[i], thresh[i] = roc_curve(y_valid, y_pred[:, i], pos_label=i)\n",
    "        auc_score = roc_auc_score(y_valid, y_pred, multi_class = 'ovr')  #'ovr'\n",
    "        mcauc.append(auc_score)\n",
    "\n",
    "    plt.plot(fpr[0], tpr[0], linestyle='--',color='orange', label='Class 0 vs Rest')\n",
    "    plt.plot(fpr[1], tpr[1], linestyle='--',color='green', label='Class 1 vs Rest')\n",
    "    plt.plot(fpr[2], tpr[2], linestyle='--',color='blue', label='Class 2 vs Rest')\n",
    "    plt.plot(fpr[3], tpr[3], linestyle='--',color='yellow', label='Class 3 vs Rest')\n",
    "    plt.title('Multiclass ROC curve')\n",
    "    plt.xlabel('False Positive Rate')\n",
    "    plt.ylabel('True Positive Rate')\n",
    "    plt.legend(loc='best')\n",
    "    \n",
    "    print(\"MCAUC= \", np.mean(mcauc))\n",
    "    \n",
    "    if output_fig:\n",
    "        plt.savefig('Multiclass ROC', dpi=300)"
   ]
  },
  {
   "cell_type": "code",
   "execution_count": 25,
   "id": "bfc93f40",
   "metadata": {},
   "outputs": [],
   "source": [
    "y_pred = model.predict(x_test)"
   ]
  },
  {
   "cell_type": "code",
   "execution_count": 26,
   "id": "514361af",
   "metadata": {},
   "outputs": [
    {
     "name": "stdout",
     "output_type": "stream",
     "text": [
      "MCAUC=  0.9916797416924624\n"
     ]
    },
    {
     "data": {
      "image/png": "[encoded data removed]",
      "text/plain": [
       "<Figure size 432x288 with 1 Axes>"
      ]
     },
     "metadata": {
      "needs_background": "light"
     },
     "output_type": "display_data"
    }
   ],
   "source": [
    "evaluation_measurement(y_test,y_pred)"
   ]
  },
  {
   "cell_type": "code",
   "execution_count": 27,
   "id": "66b69ac8",
   "metadata": {},
   "outputs": [
    {
     "data": {
      "text/plain": [
       "array([8, 3, 8, ..., 8, 2, 8], dtype=int64)"
      ]
     },
     "execution_count": 27,
     "metadata": {},
     "output_type": "execute_result"
    }
   ],
   "source": [
    "y_test"
   ]
  },
  {
   "cell_type": "code",
   "execution_count": 28,
   "id": "a88f2ead",
   "metadata": {},
   "outputs": [
    {
     "data": {
      "text/plain": [
       "array([[3.4923474e-07, 3.7867412e-07, 2.0139436e-03, ..., 5.6288700e-04,\n",
       "        9.8069477e-23, 9.9736637e-01],\n",
       "       [0.0000000e+00, 0.0000000e+00, 1.6853609e-16, ..., 2.7614551e-24,\n",
       "        0.0000000e+00, 2.5251876e-30],\n",
       "       [2.4802899e-08, 1.1926909e-10, 2.5486478e-03, ..., 2.5918203e-05,\n",
       "        2.7058592e-30, 9.9549073e-01],\n",
       "       ...,\n",
       "       [8.5909493e-09, 1.0339168e-12, 3.3393982e-07, ..., 1.7368898e-06,\n",
       "        0.0000000e+00, 9.9998939e-01],\n",
       "       [3.3037773e-07, 2.9299358e-09, 2.3051257e-01, ..., 3.2470220e-05,\n",
       "        2.1825027e-21, 7.6117480e-01],\n",
       "       [2.4867090e-06, 3.8559187e-06, 5.5956619e-04, ..., 6.4637646e-04,\n",
       "        2.3054296e-23, 9.9819845e-01]], dtype=float32)"
      ]
     },
     "execution_count": 28,
     "metadata": {},
     "output_type": "execute_result"
    }
   ],
   "source": [
    "y_pred"
   ]
  },
  {
   "cell_type": "markdown",
   "id": "606db949",
   "metadata": {},
   "source": [
    "## Opening pickle with data for predictions "
   ]
  },
  {
   "cell_type": "code",
   "execution_count": 29,
   "id": "7ef08a68",
   "metadata": {},
   "outputs": [],
   "source": [
    "pickle_in = open(\"x_to_predict.pickle\",\"rb\")\n",
    "x_testing = pickle.load(pickle_in)"
   ]
  },
  {
   "cell_type": "code",
   "execution_count": 30,
   "id": "af29875d",
   "metadata": {},
   "outputs": [
    {
     "data": {
      "text/plain": [
       "(118595, 60, 60)"
      ]
     },
     "execution_count": 30,
     "metadata": {},
     "output_type": "execute_result"
    }
   ],
   "source": [
    "x_testing.shape"
   ]
  },
  {
   "cell_type": "code",
   "execution_count": 31,
   "id": "205ee972",
   "metadata": {},
   "outputs": [
    {
     "data": {
      "text/plain": [
       "array([[[0, 0, 0, ..., 0, 0, 0],\n",
       "        [0, 0, 0, ..., 0, 0, 0],\n",
       "        [0, 0, 0, ..., 0, 0, 0],\n",
       "        ...,\n",
       "        [0, 0, 0, ..., 0, 0, 0],\n",
       "        [0, 0, 0, ..., 0, 0, 0],\n",
       "        [0, 0, 0, ..., 0, 0, 0]],\n",
       "\n",
       "       [[0, 0, 0, ..., 0, 0, 0],\n",
       "        [0, 0, 0, ..., 0, 0, 0],\n",
       "        [0, 0, 0, ..., 0, 0, 0],\n",
       "        ...,\n",
       "        [0, 0, 0, ..., 0, 0, 0],\n",
       "        [0, 0, 0, ..., 0, 0, 0],\n",
       "        [0, 0, 0, ..., 0, 0, 0]],\n",
       "\n",
       "       [[0, 0, 0, ..., 0, 0, 0],\n",
       "        [0, 0, 0, ..., 0, 0, 0],\n",
       "        [0, 0, 0, ..., 0, 0, 0],\n",
       "        ...,\n",
       "        [0, 0, 0, ..., 0, 0, 0],\n",
       "        [0, 0, 0, ..., 0, 0, 0],\n",
       "        [0, 0, 0, ..., 0, 0, 0]],\n",
       "\n",
       "       ...,\n",
       "\n",
       "       [[0, 0, 0, ..., 0, 0, 0],\n",
       "        [0, 0, 0, ..., 0, 0, 0],\n",
       "        [0, 0, 0, ..., 0, 0, 0],\n",
       "        ...,\n",
       "        [0, 0, 0, ..., 0, 0, 0],\n",
       "        [0, 0, 0, ..., 0, 0, 0],\n",
       "        [0, 0, 0, ..., 0, 0, 0]],\n",
       "\n",
       "       [[0, 0, 0, ..., 0, 0, 0],\n",
       "        [0, 0, 0, ..., 0, 0, 0],\n",
       "        [0, 0, 0, ..., 0, 0, 0],\n",
       "        ...,\n",
       "        [0, 0, 0, ..., 0, 0, 0],\n",
       "        [0, 0, 0, ..., 0, 0, 0],\n",
       "        [0, 0, 0, ..., 0, 0, 0]],\n",
       "\n",
       "       [[0, 0, 0, ..., 0, 0, 0],\n",
       "        [0, 0, 0, ..., 0, 0, 0],\n",
       "        [0, 0, 0, ..., 0, 0, 0],\n",
       "        ...,\n",
       "        [0, 0, 0, ..., 0, 0, 0],\n",
       "        [0, 0, 0, ..., 0, 0, 0],\n",
       "        [0, 0, 0, ..., 0, 0, 0]]], dtype=uint8)"
      ]
     },
     "execution_count": 31,
     "metadata": {},
     "output_type": "execute_result"
    }
   ],
   "source": [
    "x_testing"
   ]
  },
  {
   "cell_type": "markdown",
   "id": "76e4dc79",
   "metadata": {},
   "source": [
    "## Predictions"
   ]
  },
  {
   "cell_type": "code",
   "execution_count": 32,
   "id": "271f84e0",
   "metadata": {
    "scrolled": true
   },
   "outputs": [
    {
     "name": "stdout",
     "output_type": "stream",
     "text": [
      "CPU times: total: 8.09 s\n",
      "Wall time: 6.57 s\n"
     ]
    }
   ],
   "source": [
    "%%time\n",
    "predictions = model.predict(x_testing)"
   ]
  },
  {
   "cell_type": "code",
   "execution_count": 33,
   "id": "ef58fb04",
   "metadata": {
    "scrolled": true
   },
   "outputs": [
    {
     "data": {
      "text/plain": [
       "118595"
      ]
     },
     "execution_count": 33,
     "metadata": {},
     "output_type": "execute_result"
    }
   ],
   "source": [
    "len(predictions)"
   ]
  },
  {
   "cell_type": "code",
   "execution_count": 34,
   "id": "954edccf",
   "metadata": {
    "scrolled": true
   },
   "outputs": [
    {
     "data": {
      "text/plain": [
       "array([7.14250987e-08, 1.10404876e-07, 2.84733196e-05, 2.52462229e-09,\n",
       "       4.24492609e-04, 5.99171453e-17, 1.37940384e-04, 1.13007810e-32,\n",
       "       9.99408960e-01], dtype=float32)"
      ]
     },
     "execution_count": 34,
     "metadata": {},
     "output_type": "execute_result"
    }
   ],
   "source": [
    "predictions[0]"
   ]
  },
  {
   "cell_type": "markdown",
   "id": "8fa3edf3",
   "metadata": {},
   "source": [
    "## Uploading CSV "
   ]
  },
  {
   "cell_type": "code",
   "execution_count": 35,
   "id": "f0bff521",
   "metadata": {},
   "outputs": [],
   "source": [
    "#for uploading\n",
    "\n",
    "import pandas as pd\n",
    "\n",
    "pred_df = pd.DataFrame(predictions, columns = [\"Type 0\", \"Type 1\", \"Type 2\", \"Type 3\", \"Type 4\", \"Type 5\", \"Type 6\", \"Type 7\", \"Type 8\"])\n",
    "#pred_df['Id'] = pred_df.reset_index().index"
   ]
  },
  {
   "cell_type": "code",
   "execution_count": 36,
   "id": "cef035fe",
   "metadata": {
    "scrolled": false
   },
   "outputs": [
    {
     "data": {
      "text/html": [
       "<div>\n",
       "<style scoped>\n",
       "    .dataframe tbody tr th:only-of-type {\n",
       "        vertical-align: middle;\n",
       "    }\n",
       "\n",
       "    .dataframe tbody tr th {\n",
       "        vertical-align: top;\n",
       "    }\n",
       "\n",
       "    .dataframe thead th {\n",
       "        text-align: right;\n",
       "    }\n",
       "</style>\n",
       "<table border=\"1\" class=\"dataframe\">\n",
       "  <thead>\n",
       "    <tr style=\"text-align: right;\">\n",
       "      <th></th>\n",
       "      <th>Type 0</th>\n",
       "      <th>Type 1</th>\n",
       "      <th>Type 2</th>\n",
       "      <th>Type 3</th>\n",
       "      <th>Type 4</th>\n",
       "      <th>Type 5</th>\n",
       "      <th>Type 6</th>\n",
       "      <th>Type 7</th>\n",
       "      <th>Type 8</th>\n",
       "    </tr>\n",
       "  </thead>\n",
       "  <tbody>\n",
       "    <tr>\n",
       "      <th>0</th>\n",
       "      <td>7.142510e-08</td>\n",
       "      <td>1.104049e-07</td>\n",
       "      <td>0.000028</td>\n",
       "      <td>2.524622e-09</td>\n",
       "      <td>4.244926e-04</td>\n",
       "      <td>5.991715e-17</td>\n",
       "      <td>1.379404e-04</td>\n",
       "      <td>1.130078e-32</td>\n",
       "      <td>9.994090e-01</td>\n",
       "    </tr>\n",
       "    <tr>\n",
       "      <th>1</th>\n",
       "      <td>7.317093e-06</td>\n",
       "      <td>5.766011e-08</td>\n",
       "      <td>0.031352</td>\n",
       "      <td>5.974727e-03</td>\n",
       "      <td>1.253143e-05</td>\n",
       "      <td>1.194241e-10</td>\n",
       "      <td>2.393442e-05</td>\n",
       "      <td>5.074520e-23</td>\n",
       "      <td>9.626292e-01</td>\n",
       "    </tr>\n",
       "    <tr>\n",
       "      <th>2</th>\n",
       "      <td>4.164908e-11</td>\n",
       "      <td>2.376591e-10</td>\n",
       "      <td>0.000266</td>\n",
       "      <td>1.756417e-06</td>\n",
       "      <td>2.630776e-05</td>\n",
       "      <td>7.541371e-15</td>\n",
       "      <td>5.807188e-05</td>\n",
       "      <td>6.924331e-32</td>\n",
       "      <td>9.996482e-01</td>\n",
       "    </tr>\n",
       "    <tr>\n",
       "      <th>3</th>\n",
       "      <td>2.636828e-06</td>\n",
       "      <td>6.532205e-09</td>\n",
       "      <td>0.000336</td>\n",
       "      <td>1.165211e-08</td>\n",
       "      <td>1.812227e-05</td>\n",
       "      <td>6.911763e-13</td>\n",
       "      <td>4.423825e-04</td>\n",
       "      <td>2.606683e-30</td>\n",
       "      <td>9.992012e-01</td>\n",
       "    </tr>\n",
       "    <tr>\n",
       "      <th>4</th>\n",
       "      <td>2.770701e-05</td>\n",
       "      <td>3.330134e-09</td>\n",
       "      <td>0.000075</td>\n",
       "      <td>1.870221e-09</td>\n",
       "      <td>1.581923e-05</td>\n",
       "      <td>2.662960e-14</td>\n",
       "      <td>9.376989e-05</td>\n",
       "      <td>1.249890e-26</td>\n",
       "      <td>9.997873e-01</td>\n",
       "    </tr>\n",
       "    <tr>\n",
       "      <th>...</th>\n",
       "      <td>...</td>\n",
       "      <td>...</td>\n",
       "      <td>...</td>\n",
       "      <td>...</td>\n",
       "      <td>...</td>\n",
       "      <td>...</td>\n",
       "      <td>...</td>\n",
       "      <td>...</td>\n",
       "      <td>...</td>\n",
       "    </tr>\n",
       "    <tr>\n",
       "      <th>118590</th>\n",
       "      <td>1.304587e-09</td>\n",
       "      <td>1.058357e-12</td>\n",
       "      <td>0.924016</td>\n",
       "      <td>7.596330e-02</td>\n",
       "      <td>1.182038e-05</td>\n",
       "      <td>1.730394e-10</td>\n",
       "      <td>9.013770e-06</td>\n",
       "      <td>1.140897e-17</td>\n",
       "      <td>2.570078e-08</td>\n",
       "    </tr>\n",
       "    <tr>\n",
       "      <th>118591</th>\n",
       "      <td>1.818110e-08</td>\n",
       "      <td>4.613990e-12</td>\n",
       "      <td>0.937606</td>\n",
       "      <td>4.976106e-02</td>\n",
       "      <td>8.310339e-04</td>\n",
       "      <td>6.211073e-13</td>\n",
       "      <td>1.022820e-04</td>\n",
       "      <td>4.918719e-16</td>\n",
       "      <td>1.170004e-02</td>\n",
       "    </tr>\n",
       "    <tr>\n",
       "      <th>118592</th>\n",
       "      <td>1.588808e-13</td>\n",
       "      <td>3.452189e-19</td>\n",
       "      <td>0.000079</td>\n",
       "      <td>9.999206e-01</td>\n",
       "      <td>1.146718e-09</td>\n",
       "      <td>5.863581e-17</td>\n",
       "      <td>6.174285e-08</td>\n",
       "      <td>6.249115e-23</td>\n",
       "      <td>1.943810e-07</td>\n",
       "    </tr>\n",
       "    <tr>\n",
       "      <th>118593</th>\n",
       "      <td>5.780533e-13</td>\n",
       "      <td>2.346644e-19</td>\n",
       "      <td>0.820214</td>\n",
       "      <td>1.797856e-01</td>\n",
       "      <td>8.748154e-09</td>\n",
       "      <td>5.344240e-18</td>\n",
       "      <td>5.993883e-09</td>\n",
       "      <td>5.010946e-23</td>\n",
       "      <td>8.144737e-10</td>\n",
       "    </tr>\n",
       "    <tr>\n",
       "      <th>118594</th>\n",
       "      <td>3.225639e-13</td>\n",
       "      <td>1.602351e-16</td>\n",
       "      <td>0.000556</td>\n",
       "      <td>9.994233e-01</td>\n",
       "      <td>1.120588e-09</td>\n",
       "      <td>1.823585e-19</td>\n",
       "      <td>2.061362e-07</td>\n",
       "      <td>6.165971e-29</td>\n",
       "      <td>2.036778e-05</td>\n",
       "    </tr>\n",
       "  </tbody>\n",
       "</table>\n",
       "<p>118595 rows × 9 columns</p>\n",
       "</div>"
      ],
      "text/plain": [
       "              Type 0        Type 1    Type 2        Type 3        Type 4  \\\n",
       "0       7.142510e-08  1.104049e-07  0.000028  2.524622e-09  4.244926e-04   \n",
       "1       7.317093e-06  5.766011e-08  0.031352  5.974727e-03  1.253143e-05   \n",
       "2       4.164908e-11  2.376591e-10  0.000266  1.756417e-06  2.630776e-05   \n",
       "3       2.636828e-06  6.532205e-09  0.000336  1.165211e-08  1.812227e-05   \n",
       "4       2.770701e-05  3.330134e-09  0.000075  1.870221e-09  1.581923e-05   \n",
       "...              ...           ...       ...           ...           ...   \n",
       "118590  1.304587e-09  1.058357e-12  0.924016  7.596330e-02  1.182038e-05   \n",
       "118591  1.818110e-08  4.613990e-12  0.937606  4.976106e-02  8.310339e-04   \n",
       "118592  1.588808e-13  3.452189e-19  0.000079  9.999206e-01  1.146718e-09   \n",
       "118593  5.780533e-13  2.346644e-19  0.820214  1.797856e-01  8.748154e-09   \n",
       "118594  3.225639e-13  1.602351e-16  0.000556  9.994233e-01  1.120588e-09   \n",
       "\n",
       "              Type 5        Type 6        Type 7        Type 8  \n",
       "0       5.991715e-17  1.379404e-04  1.130078e-32  9.994090e-01  \n",
       "1       1.194241e-10  2.393442e-05  5.074520e-23  9.626292e-01  \n",
       "2       7.541371e-15  5.807188e-05  6.924331e-32  9.996482e-01  \n",
       "3       6.911763e-13  4.423825e-04  2.606683e-30  9.992012e-01  \n",
       "4       2.662960e-14  9.376989e-05  1.249890e-26  9.997873e-01  \n",
       "...              ...           ...           ...           ...  \n",
       "118590  1.730394e-10  9.013770e-06  1.140897e-17  2.570078e-08  \n",
       "118591  6.211073e-13  1.022820e-04  4.918719e-16  1.170004e-02  \n",
       "118592  5.863581e-17  6.174285e-08  6.249115e-23  1.943810e-07  \n",
       "118593  5.344240e-18  5.993883e-09  5.010946e-23  8.144737e-10  \n",
       "118594  1.823585e-19  2.061362e-07  6.165971e-29  2.036778e-05  \n",
       "\n",
       "[118595 rows x 9 columns]"
      ]
     },
     "execution_count": 36,
     "metadata": {},
     "output_type": "execute_result"
    }
   ],
   "source": [
    "pred_df"
   ]
  },
  {
   "cell_type": "code",
   "execution_count": 37,
   "id": "e22358c1",
   "metadata": {},
   "outputs": [],
   "source": [
    "pred_df.to_csv('./uploads/#colored60_60_augmenting#2.csv',index_label=\"Id\")"
   ]
  },
  {
   "cell_type": "code",
   "execution_count": 38,
   "id": "637035b9",
   "metadata": {},
   "outputs": [],
   "source": [
    "#del x,y, x_train, y_train, x_test, y_test, pred_df, history, model\n",
    "#gc.collect()"
   ]
  },
  {
   "cell_type": "markdown",
   "id": "c1c2e060",
   "metadata": {},
   "source": [
    "# -------------------------------------------------- "
   ]
  }
 ],
 "metadata": {
  "kernelspec": {
   "display_name": "tf-alex",
   "language": "python",
   "name": "tf-alex"
  },
  "language_info": {
   "codemirror_mode": {
    "name": "ipython",
    "version": 3
   },
   "file_extension": ".py",
   "mimetype": "text/x-python",
   "name": "python",
   "nbconvert_exporter": "python",
   "pygments_lexer": "ipython3",
   "version": "3.10.1"
  }
 },
 "nbformat": 4,
 "nbformat_minor": 5
}
